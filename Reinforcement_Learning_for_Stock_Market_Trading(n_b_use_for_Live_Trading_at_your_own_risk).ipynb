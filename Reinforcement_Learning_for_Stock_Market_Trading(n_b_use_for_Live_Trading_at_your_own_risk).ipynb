{
  "nbformat": 4,
  "nbformat_minor": 0,
  "metadata": {
    "colab": {
      "name": "Reinforcement Learning for Stock Market Trading(n.b: use for Live Trading at your own risk).ipynb",
      "provenance": [],
      "collapsed_sections": [],
      "authorship_tag": "ABX9TyO3xXLm9uKRXci8E6Eaq1Bi",
      "include_colab_link": true
    },
    "kernelspec": {
      "name": "python3",
      "display_name": "Python 3"
    },
    "language_info": {
      "name": "python"
    }
  },
  "cells": [
    {
      "cell_type": "markdown",
      "metadata": {
        "id": "view-in-github",
        "colab_type": "text"
      },
      "source": [
        "<a href=\"https://colab.research.google.com/github/Neo-glitch/t.f-2.0-practice/blob/master/Reinforcement_Learning_for_Stock_Market_Trading(n_b_use_for_Live_Trading_at_your_own_risk).ipynb\" target=\"_parent\"><img src=\"https://colab.research.google.com/assets/colab-badge.svg\" alt=\"Open In Colab\"/></a>"
      ]
    },
    {
      "cell_type": "code",
      "source": [
        "!pip uninstall pandas-datareader -y\n",
        "# Again, to be sure\n",
        "!pip uninstall pandas-datareader -y\n",
        "!pip install pandas-datareader -U"
      ],
      "metadata": {
        "colab": {
          "base_uri": "https://localhost:8080/",
          "height": 465
        },
        "id": "Jzo-baaI3RmL",
        "outputId": "5b574a2e-5b31-41fc-9f2a-8fe00a84b7ac"
      },
      "execution_count": null,
      "outputs": [
        {
          "output_type": "stream",
          "name": "stdout",
          "text": [
            "Found existing installation: pandas-datareader 0.10.0\n",
            "Uninstalling pandas-datareader-0.10.0:\n",
            "  Successfully uninstalled pandas-datareader-0.10.0\n",
            "\u001b[33mWARNING: Skipping pandas-datareader as it is not installed.\u001b[0m\n",
            "Collecting pandas-datareader\n",
            "  Using cached pandas_datareader-0.10.0-py3-none-any.whl (109 kB)\n",
            "Requirement already satisfied: lxml in /usr/local/lib/python3.7/dist-packages (from pandas-datareader) (4.2.6)\n",
            "Requirement already satisfied: pandas>=0.23 in /usr/local/lib/python3.7/dist-packages (from pandas-datareader) (1.3.5)\n",
            "Requirement already satisfied: requests>=2.19.0 in /usr/local/lib/python3.7/dist-packages (from pandas-datareader) (2.23.0)\n",
            "Requirement already satisfied: pytz>=2017.3 in /usr/local/lib/python3.7/dist-packages (from pandas>=0.23->pandas-datareader) (2022.1)\n",
            "Requirement already satisfied: python-dateutil>=2.7.3 in /usr/local/lib/python3.7/dist-packages (from pandas>=0.23->pandas-datareader) (2.8.2)\n",
            "Requirement already satisfied: numpy>=1.17.3 in /usr/local/lib/python3.7/dist-packages (from pandas>=0.23->pandas-datareader) (1.21.6)\n",
            "Requirement already satisfied: six>=1.5 in /usr/local/lib/python3.7/dist-packages (from python-dateutil>=2.7.3->pandas>=0.23->pandas-datareader) (1.15.0)\n",
            "Requirement already satisfied: urllib3!=1.25.0,!=1.25.1,<1.26,>=1.21.1 in /usr/local/lib/python3.7/dist-packages (from requests>=2.19.0->pandas-datareader) (1.24.3)\n",
            "Requirement already satisfied: idna<3,>=2.5 in /usr/local/lib/python3.7/dist-packages (from requests>=2.19.0->pandas-datareader) (2.10)\n",
            "Requirement already satisfied: chardet<4,>=3.0.2 in /usr/local/lib/python3.7/dist-packages (from requests>=2.19.0->pandas-datareader) (3.0.4)\n",
            "Requirement already satisfied: certifi>=2017.4.17 in /usr/local/lib/python3.7/dist-packages (from requests>=2.19.0->pandas-datareader) (2021.10.8)\n",
            "Installing collected packages: pandas-datareader\n",
            "Successfully installed pandas-datareader-0.10.0\n"
          ]
        },
        {
          "output_type": "display_data",
          "data": {
            "application/vnd.colab-display-data+json": {
              "pip_warning": {
                "packages": [
                  "pandas_datareader"
                ]
              }
            }
          },
          "metadata": {}
        }
      ]
    },
    {
      "cell_type": "code",
      "execution_count": null,
      "metadata": {
        "id": "8XtsNVR4d_D0"
      },
      "outputs": [],
      "source": [
        "#n.b use gpu when training, this shit takes long without it\n",
        "\n",
        "\n",
        "import math  # to implement custom sigmoid function to scaler our stock prices\n",
        "import random\n",
        "import numpy as np\n",
        "import pandas as pd\n",
        "import tensorflow as tf\n",
        "import matplotlib.pyplot as plt\n",
        "import pandas_datareader as data_reader # to get and work with stock market info\n",
        "\n",
        "from tqdm import tqdm_notebook, tqdm  # to viz progress in project\n",
        "from collections import deque  # to implement experience replay, power of double ended que"
      ]
    },
    {
      "cell_type": "code",
      "source": [
        "class AI_Trader():\n",
        "\n",
        "  def __init__(self, state_size, action_space = 3, model_name = \"AITrader\"):  # actions space are : Stay, Buy and Sell\n",
        "    \n",
        "    # init the class attr\n",
        "    self.state_size = state_size       # states are previous days and stock prices over those days.\n",
        "    self.action_space = action_space\n",
        "    self.memory = deque(maxlen = 2000) # max element in deque\n",
        "    self.inventory = []                # to hold all bought stocks\n",
        "    self.model_name = model_name\n",
        "\n",
        "    self.gamma = 0.95  # discount or gamma\n",
        "    self.epsilon = 1.0  # beginning , action is random making epsilon 100%\n",
        "    self.epsilon_final = 0.01 # final epsilon is 1%\n",
        "    self.epsilon_decay = 0.995\n",
        "\n",
        "    self.model = self.model_builder()\n",
        "\n",
        "\n",
        "  def model_builder(self):\n",
        "    model = tf.keras.Sequential()\n",
        "\n",
        "    model.add(tf.keras.layers.Dense(units = 32, activation = \"relu\", input_dim = self.state_size))\n",
        "    model.add(tf.keras.layers.Dense(units = 64, activation = \"relu\"))\n",
        "    model.add(tf.keras.layers.Dense(units = 128, activation = \"relu\"))\n",
        "    # output layer to predictions, where we modify actions with a reward which is continous\n",
        "    model.add(tf.keras.layers.Dense(units = self.action_space, activation = \"linear\"))\n",
        "  \n",
        "    model.compile(loss = \"mse\", optimizer = tf.optimizers.Adam(lr = 0.001))\n",
        "\n",
        "    return model\n",
        "\n",
        "\n",
        "  def trade(self, state):\n",
        "    \"\"\"\n",
        "    to return action to take\n",
        "    \"\"\"\n",
        "    # if random gen number less than epsilon exec\n",
        "    if(random.random() <= self.epsilon):\n",
        "      return random.randrange(self.action_space)  # random num btw 0 & action_space.len\n",
        "    \n",
        "    # else choose best action based on prediction.\n",
        "    actions = self.model.predict(state)\n",
        "    return np.argmax(actions[0])\n",
        "\n",
        "\n",
        "  def batch_train(self, batch_size):\n",
        "    batch = []\n",
        "\n",
        "    # since data is time constrained, to get latest data, we get batch from last n(batch_size) from mem\n",
        "    for i in range(len(self.memory) - batch_size + 1, len(self.memory)):\n",
        "      batch.append(self.memory[i])\n",
        "\n",
        "    for state, action, reward, next_state, done in batch:\n",
        "      reward = reward\n",
        "      if not done: # if agent not in terminated or dead state\n",
        "        reward = reward + self.gamma * np.amax(self.model.predict(next_state)[0])  # normal reward formular\n",
        "\n",
        "      target = self.model.predict(state)  # returns an action\n",
        "      print(f\"reward is: {reward}\")\n",
        "      print(f\"target is: {target[0][action]}\")\n",
        "\n",
        "      target[0][action] = reward  # updates this action, with current reward\n",
        "\n",
        "      self.model.fit(state, target, epochs = 1, verbose = 0)\n",
        "\n",
        "    if self.epsilon > self.epsilon_final:\n",
        "      self.epsilon *= self.epsilon_decay"
      ],
      "metadata": {
        "id": "MhAnaRZxeNXp"
      },
      "execution_count": null,
      "outputs": []
    },
    {
      "cell_type": "code",
      "source": [
        "# helper functions\n",
        "\n",
        "\n",
        "def sigmoid(x):\n",
        "  \"\"\"\n",
        "  scales price 0 to 1 where 1 means stock price jump and vice versa\n",
        "  \"\"\"\n",
        "  return 1 / (1 + math.exp(-x))\n",
        "\n",
        "def stocks_price_format(n):\n",
        "  \"\"\"\n",
        "  to print formatted price of stock bought or sold\n",
        "  \"\"\"\n",
        "  print(f\"price before formatting: {n}\")\n",
        "  if n < 0:\n",
        "    return \"- $ {0:2f}\".format(abs(n))  # we lost money\n",
        "  else:\n",
        "    return \"$ {0:2f}\".format(abs(n))     # we gained money\n",
        "\n",
        "\n",
        "def dataset_loader(stock_name= \"AAPL\"):\n",
        "  \"\"\"\n",
        "  loads the needed dataset\n",
        "  \"\"\"\n",
        "  # df holding stock data for stock_name passed\n",
        "  dataset = data_reader.DataReader(stock_name, data_source=\"yahoo\")\n",
        "\n",
        "  start_date = str(dataset.index[0]).split()[0]\n",
        "  end_state = str(dataset.index[-1]).split()[0]\n",
        "\n",
        "  close = dataset[\"Close\"]\n",
        "\n",
        "  return close\n"
      ],
      "metadata": {
        "id": "3mxTzeu2eNr3"
      },
      "execution_count": null,
      "outputs": []
    },
    {
      "cell_type": "code",
      "source": [
        "dataset = data_reader.data.DataReader('TSLA', data_source=\"yahoo\")"
      ],
      "metadata": {
        "id": "3rrw-jOgeN2v"
      },
      "execution_count": null,
      "outputs": []
    },
    {
      "cell_type": "code",
      "source": [
        "dataset"
      ],
      "metadata": {
        "id": "oVWRbvHMeOBB",
        "colab": {
          "base_uri": "https://localhost:8080/",
          "height": 455
        },
        "outputId": "aca03687-7ecf-40cc-9a13-8a0e488ad5e8"
      },
      "execution_count": null,
      "outputs": [
        {
          "output_type": "execute_result",
          "data": {
            "text/plain": [
              "                   High         Low         Open        Close      Volume  \\\n",
              "Date                                                                        \n",
              "2017-04-25    62.796001   61.172001    61.599998    62.757999  33688500.0   \n",
              "2017-04-26    62.900002   61.799999    62.473999    62.034000  23475000.0   \n",
              "2017-04-27    62.618000   61.500000    62.338001    61.726002  17343000.0   \n",
              "2017-04-28    62.959999   61.599998    61.966000    62.813999  22527500.0   \n",
              "2017-05-01    65.449997   62.962002    62.976002    64.566002  44148000.0   \n",
              "...                 ...         ...          ...          ...         ...   \n",
              "2022-04-18  1014.919983  973.409973   989.030029  1004.289978  17238400.0   \n",
              "2022-04-19  1034.939941  995.330017  1005.059998  1028.150024  16615900.0   \n",
              "2022-04-20  1034.000000  975.250000  1030.000000   977.200012  23570400.0   \n",
              "2022-04-21  1092.219971  996.419983  1074.729980  1008.780029  35138800.0   \n",
              "2022-04-22  1034.849976  994.000000  1014.909973  1005.049988  23181600.0   \n",
              "\n",
              "              Adj Close  \n",
              "Date                     \n",
              "2017-04-25    62.757999  \n",
              "2017-04-26    62.034000  \n",
              "2017-04-27    61.726002  \n",
              "2017-04-28    62.813999  \n",
              "2017-05-01    64.566002  \n",
              "...                 ...  \n",
              "2022-04-18  1004.289978  \n",
              "2022-04-19  1028.150024  \n",
              "2022-04-20   977.200012  \n",
              "2022-04-21  1008.780029  \n",
              "2022-04-22  1005.049988  \n",
              "\n",
              "[1259 rows x 6 columns]"
            ],
            "text/html": [
              "\n",
              "  <div id=\"df-7cccb80b-28a4-412a-b47c-fe3df8eb6f02\">\n",
              "    <div class=\"colab-df-container\">\n",
              "      <div>\n",
              "<style scoped>\n",
              "    .dataframe tbody tr th:only-of-type {\n",
              "        vertical-align: middle;\n",
              "    }\n",
              "\n",
              "    .dataframe tbody tr th {\n",
              "        vertical-align: top;\n",
              "    }\n",
              "\n",
              "    .dataframe thead th {\n",
              "        text-align: right;\n",
              "    }\n",
              "</style>\n",
              "<table border=\"1\" class=\"dataframe\">\n",
              "  <thead>\n",
              "    <tr style=\"text-align: right;\">\n",
              "      <th></th>\n",
              "      <th>High</th>\n",
              "      <th>Low</th>\n",
              "      <th>Open</th>\n",
              "      <th>Close</th>\n",
              "      <th>Volume</th>\n",
              "      <th>Adj Close</th>\n",
              "    </tr>\n",
              "    <tr>\n",
              "      <th>Date</th>\n",
              "      <th></th>\n",
              "      <th></th>\n",
              "      <th></th>\n",
              "      <th></th>\n",
              "      <th></th>\n",
              "      <th></th>\n",
              "    </tr>\n",
              "  </thead>\n",
              "  <tbody>\n",
              "    <tr>\n",
              "      <th>2017-04-25</th>\n",
              "      <td>62.796001</td>\n",
              "      <td>61.172001</td>\n",
              "      <td>61.599998</td>\n",
              "      <td>62.757999</td>\n",
              "      <td>33688500.0</td>\n",
              "      <td>62.757999</td>\n",
              "    </tr>\n",
              "    <tr>\n",
              "      <th>2017-04-26</th>\n",
              "      <td>62.900002</td>\n",
              "      <td>61.799999</td>\n",
              "      <td>62.473999</td>\n",
              "      <td>62.034000</td>\n",
              "      <td>23475000.0</td>\n",
              "      <td>62.034000</td>\n",
              "    </tr>\n",
              "    <tr>\n",
              "      <th>2017-04-27</th>\n",
              "      <td>62.618000</td>\n",
              "      <td>61.500000</td>\n",
              "      <td>62.338001</td>\n",
              "      <td>61.726002</td>\n",
              "      <td>17343000.0</td>\n",
              "      <td>61.726002</td>\n",
              "    </tr>\n",
              "    <tr>\n",
              "      <th>2017-04-28</th>\n",
              "      <td>62.959999</td>\n",
              "      <td>61.599998</td>\n",
              "      <td>61.966000</td>\n",
              "      <td>62.813999</td>\n",
              "      <td>22527500.0</td>\n",
              "      <td>62.813999</td>\n",
              "    </tr>\n",
              "    <tr>\n",
              "      <th>2017-05-01</th>\n",
              "      <td>65.449997</td>\n",
              "      <td>62.962002</td>\n",
              "      <td>62.976002</td>\n",
              "      <td>64.566002</td>\n",
              "      <td>44148000.0</td>\n",
              "      <td>64.566002</td>\n",
              "    </tr>\n",
              "    <tr>\n",
              "      <th>...</th>\n",
              "      <td>...</td>\n",
              "      <td>...</td>\n",
              "      <td>...</td>\n",
              "      <td>...</td>\n",
              "      <td>...</td>\n",
              "      <td>...</td>\n",
              "    </tr>\n",
              "    <tr>\n",
              "      <th>2022-04-18</th>\n",
              "      <td>1014.919983</td>\n",
              "      <td>973.409973</td>\n",
              "      <td>989.030029</td>\n",
              "      <td>1004.289978</td>\n",
              "      <td>17238400.0</td>\n",
              "      <td>1004.289978</td>\n",
              "    </tr>\n",
              "    <tr>\n",
              "      <th>2022-04-19</th>\n",
              "      <td>1034.939941</td>\n",
              "      <td>995.330017</td>\n",
              "      <td>1005.059998</td>\n",
              "      <td>1028.150024</td>\n",
              "      <td>16615900.0</td>\n",
              "      <td>1028.150024</td>\n",
              "    </tr>\n",
              "    <tr>\n",
              "      <th>2022-04-20</th>\n",
              "      <td>1034.000000</td>\n",
              "      <td>975.250000</td>\n",
              "      <td>1030.000000</td>\n",
              "      <td>977.200012</td>\n",
              "      <td>23570400.0</td>\n",
              "      <td>977.200012</td>\n",
              "    </tr>\n",
              "    <tr>\n",
              "      <th>2022-04-21</th>\n",
              "      <td>1092.219971</td>\n",
              "      <td>996.419983</td>\n",
              "      <td>1074.729980</td>\n",
              "      <td>1008.780029</td>\n",
              "      <td>35138800.0</td>\n",
              "      <td>1008.780029</td>\n",
              "    </tr>\n",
              "    <tr>\n",
              "      <th>2022-04-22</th>\n",
              "      <td>1034.849976</td>\n",
              "      <td>994.000000</td>\n",
              "      <td>1014.909973</td>\n",
              "      <td>1005.049988</td>\n",
              "      <td>23181600.0</td>\n",
              "      <td>1005.049988</td>\n",
              "    </tr>\n",
              "  </tbody>\n",
              "</table>\n",
              "<p>1259 rows × 6 columns</p>\n",
              "</div>\n",
              "      <button class=\"colab-df-convert\" onclick=\"convertToInteractive('df-7cccb80b-28a4-412a-b47c-fe3df8eb6f02')\"\n",
              "              title=\"Convert this dataframe to an interactive table.\"\n",
              "              style=\"display:none;\">\n",
              "        \n",
              "  <svg xmlns=\"http://www.w3.org/2000/svg\" height=\"24px\"viewBox=\"0 0 24 24\"\n",
              "       width=\"24px\">\n",
              "    <path d=\"M0 0h24v24H0V0z\" fill=\"none\"/>\n",
              "    <path d=\"M18.56 5.44l.94 2.06.94-2.06 2.06-.94-2.06-.94-.94-2.06-.94 2.06-2.06.94zm-11 1L8.5 8.5l.94-2.06 2.06-.94-2.06-.94L8.5 2.5l-.94 2.06-2.06.94zm10 10l.94 2.06.94-2.06 2.06-.94-2.06-.94-.94-2.06-.94 2.06-2.06.94z\"/><path d=\"M17.41 7.96l-1.37-1.37c-.4-.4-.92-.59-1.43-.59-.52 0-1.04.2-1.43.59L10.3 9.45l-7.72 7.72c-.78.78-.78 2.05 0 2.83L4 21.41c.39.39.9.59 1.41.59.51 0 1.02-.2 1.41-.59l7.78-7.78 2.81-2.81c.8-.78.8-2.07 0-2.86zM5.41 20L4 18.59l7.72-7.72 1.47 1.35L5.41 20z\"/>\n",
              "  </svg>\n",
              "      </button>\n",
              "      \n",
              "  <style>\n",
              "    .colab-df-container {\n",
              "      display:flex;\n",
              "      flex-wrap:wrap;\n",
              "      gap: 12px;\n",
              "    }\n",
              "\n",
              "    .colab-df-convert {\n",
              "      background-color: #E8F0FE;\n",
              "      border: none;\n",
              "      border-radius: 50%;\n",
              "      cursor: pointer;\n",
              "      display: none;\n",
              "      fill: #1967D2;\n",
              "      height: 32px;\n",
              "      padding: 0 0 0 0;\n",
              "      width: 32px;\n",
              "    }\n",
              "\n",
              "    .colab-df-convert:hover {\n",
              "      background-color: #E2EBFA;\n",
              "      box-shadow: 0px 1px 2px rgba(60, 64, 67, 0.3), 0px 1px 3px 1px rgba(60, 64, 67, 0.15);\n",
              "      fill: #174EA6;\n",
              "    }\n",
              "\n",
              "    [theme=dark] .colab-df-convert {\n",
              "      background-color: #3B4455;\n",
              "      fill: #D2E3FC;\n",
              "    }\n",
              "\n",
              "    [theme=dark] .colab-df-convert:hover {\n",
              "      background-color: #434B5C;\n",
              "      box-shadow: 0px 1px 3px 1px rgba(0, 0, 0, 0.15);\n",
              "      filter: drop-shadow(0px 1px 2px rgba(0, 0, 0, 0.3));\n",
              "      fill: #FFFFFF;\n",
              "    }\n",
              "  </style>\n",
              "\n",
              "      <script>\n",
              "        const buttonEl =\n",
              "          document.querySelector('#df-7cccb80b-28a4-412a-b47c-fe3df8eb6f02 button.colab-df-convert');\n",
              "        buttonEl.style.display =\n",
              "          google.colab.kernel.accessAllowed ? 'block' : 'none';\n",
              "\n",
              "        async function convertToInteractive(key) {\n",
              "          const element = document.querySelector('#df-7cccb80b-28a4-412a-b47c-fe3df8eb6f02');\n",
              "          const dataTable =\n",
              "            await google.colab.kernel.invokeFunction('convertToInteractive',\n",
              "                                                     [key], {});\n",
              "          if (!dataTable) return;\n",
              "\n",
              "          const docLinkHtml = 'Like what you see? Visit the ' +\n",
              "            '<a target=\"_blank\" href=https://colab.research.google.com/notebooks/data_table.ipynb>data table notebook</a>'\n",
              "            + ' to learn more about interactive tables.';\n",
              "          element.innerHTML = '';\n",
              "          dataTable['output_type'] = 'display_data';\n",
              "          await google.colab.output.renderOutput(dataTable, element);\n",
              "          const docLink = document.createElement('div');\n",
              "          docLink.innerHTML = docLinkHtml;\n",
              "          element.appendChild(docLink);\n",
              "        }\n",
              "      </script>\n",
              "    </div>\n",
              "  </div>\n",
              "  "
            ]
          },
          "metadata": {},
          "execution_count": 55
        }
      ]
    },
    {
      "cell_type": "code",
      "source": [
        "# helper to get state, from the data\n",
        "def state_creator(data, timestep, window_size):\n",
        "  \"\"\"\n",
        "  window_size = num previous days to consider before predicting a stock price\n",
        "  data = stock market dataset\n",
        "  timestep = day to predict the right move to take\n",
        "\n",
        "  function converts days to diff btw days as state and target from stock price will be an action\n",
        "  e.g BUY, SELL, STAY IN TRADE\n",
        "  \"\"\"\n",
        "  starting_id = timestep - window_size + 1  # start state. +1 added since our state ain't price but diff btw prices of days\n",
        "\n",
        "  if starting_id >= 0:\n",
        "    # starting id is +ve\n",
        "    windowed_data = data[starting_id:timestep+1]\n",
        "  else:\n",
        "    # starting id is negative, append first data as many times to match window size\n",
        "    windowed_data = - starting_id * [data[0]] + list(data[0: timestep+1])\n",
        "\n",
        "    state = []\n",
        "    for i in range(window_size - 1):\n",
        "      # to get state, which is price diff btw days normalized using helper sigmoid\n",
        "      state.append(sigmoid(windowed_data[i+1] - windowed_data[i]))\n",
        "    \n",
        "    return np.array([state])"
      ],
      "metadata": {
        "id": "ONYeeQUQeOKG"
      },
      "execution_count": null,
      "outputs": []
    },
    {
      "cell_type": "code",
      "source": [
        "# Loading the dataset\n",
        "stock_name = \"AAPL\"\n",
        "data = dataset_loader(stock_name)\n",
        "data"
      ],
      "metadata": {
        "id": "YN2pAYsneOVO",
        "colab": {
          "base_uri": "https://localhost:8080/"
        },
        "outputId": "be257b61-9702-47c7-9e55-ee125f00a316"
      },
      "execution_count": null,
      "outputs": [
        {
          "output_type": "execute_result",
          "data": {
            "text/plain": [
              "Date\n",
              "2017-04-25     36.132500\n",
              "2017-04-26     35.919998\n",
              "2017-04-27     35.947498\n",
              "2017-04-28     35.912498\n",
              "2017-05-01     36.645000\n",
              "                 ...    \n",
              "2022-04-18    165.070007\n",
              "2022-04-19    167.399994\n",
              "2022-04-20    167.229996\n",
              "2022-04-21    166.419998\n",
              "2022-04-22    161.789993\n",
              "Name: Close, Length: 1259, dtype: float64"
            ]
          },
          "metadata": {},
          "execution_count": 57
        }
      ]
    },
    {
      "cell_type": "code",
      "source": [
        "window_size = 10  # using 10 previous days to make predictions\n",
        "episodes = 1000\n",
        "\n",
        "batch_size = 32\n",
        "data_samples = len(data) - 1   # -1 sine we want to predict last one"
      ],
      "metadata": {
        "id": "m-gEg2kYnUXZ"
      },
      "execution_count": null,
      "outputs": []
    },
    {
      "cell_type": "code",
      "source": [
        "# Define Trader model\n",
        "trader = AI_Trader(window_size)"
      ],
      "metadata": {
        "colab": {
          "base_uri": "https://localhost:8080/"
        },
        "id": "a4aREdsvnUlp",
        "outputId": "56e3aea7-aadc-45ea-e78b-b97e67df6459"
      },
      "execution_count": null,
      "outputs": [
        {
          "output_type": "stream",
          "name": "stderr",
          "text": [
            "/usr/local/lib/python3.7/dist-packages/keras/optimizer_v2/adam.py:105: UserWarning: The `lr` argument is deprecated, use `learning_rate` instead.\n",
            "  super(Adam, self).__init__(name, **kwargs)\n"
          ]
        }
      ]
    },
    {
      "cell_type": "code",
      "source": [
        "trader.model.summary()"
      ],
      "metadata": {
        "colab": {
          "base_uri": "https://localhost:8080/"
        },
        "id": "jKE7dc17nUzD",
        "outputId": "1621d44f-9cd5-49a8-937c-c7329e480db6"
      },
      "execution_count": null,
      "outputs": [
        {
          "output_type": "stream",
          "name": "stdout",
          "text": [
            "Model: \"sequential_5\"\n",
            "_________________________________________________________________\n",
            " Layer (type)                Output Shape              Param #   \n",
            "=================================================================\n",
            " dense_20 (Dense)            (None, 32)                352       \n",
            "                                                                 \n",
            " dense_21 (Dense)            (None, 64)                2112      \n",
            "                                                                 \n",
            " dense_22 (Dense)            (None, 128)               8320      \n",
            "                                                                 \n",
            " dense_23 (Dense)            (None, 3)                 387       \n",
            "                                                                 \n",
            "=================================================================\n",
            "Total params: 11,171\n",
            "Trainable params: 11,171\n",
            "Non-trainable params: 0\n",
            "_________________________________________________________________\n"
          ]
        }
      ]
    },
    {
      "cell_type": "markdown",
      "source": [
        "### Training Loop"
      ],
      "metadata": {
        "id": "WnrHvP8xzwiW"
      }
    },
    {
      "cell_type": "code",
      "source": [
        "for episode in range(1, episodes + 1):\n",
        "  \n",
        "  print(\"Episode: {}/{}\".format(episode, episodes))\n",
        "  \n",
        "  state = state_creator(data, 0, window_size + 1)\n",
        "  \n",
        "  total_profit = 0\n",
        "  trader.inventory = []  # to store all stocks bought\n",
        "  \n",
        "  # tqdm just shows progress bar in loops\n",
        "  for t in tqdm(range(data_samples)):\n",
        "    \n",
        "    action = trader.trade(state)\n",
        "    \n",
        "    next_state = state_creator(data, t+1, window_size + 1)\n",
        "    reward = 0\n",
        "    \n",
        "    if action == 1: #Buying\n",
        "      trader.inventory.append(data[t])  # add to my stock portfolio\n",
        "      print(\"AI Trader bought: \", stocks_price_format(data[t]))\n",
        "      \n",
        "    elif action == 2 and len(trader.inventory) > 0: #Selling(checks if stock already in portfolio)\n",
        "      buy_price = trader.inventory.pop(0)\n",
        "      \n",
        "      reward = max(data[t] - buy_price, 0)\n",
        "      total_profit += data[t] - buy_price\n",
        "      print(\"AI Trader sold: \", stocks_price_format(data[t]), \" Profit: \" + stocks_price_format(data[t] - buy_price) )\n",
        "      \n",
        "    if t == data_samples - 1:\n",
        "      # stop at end of data samples\n",
        "      done = True\n",
        "    else:\n",
        "      done = False\n",
        "      \n",
        "    trader.memory.append((state, action, reward, next_state, done))\n",
        "    \n",
        "    state = next_state\n",
        "    \n",
        "    if done:\n",
        "      print(\"########################\")\n",
        "      print(\"TOTAL PROFIT: {}\".format(total_profit))\n",
        "      print(\"########################\")\n",
        "    \n",
        "    if len(trader.memory) > batch_size:\n",
        "      trader.batch_train(batch_size)\n",
        "      \n",
        "  if episode % 10 == 0:\n",
        "    trader.model.save(\"ai_trader_{}.h5\".format(episode))\n",
        "    "
      ],
      "metadata": {
        "colab": {
          "base_uri": "https://localhost:8080/",
          "height": 1000
        },
        "id": "BGRRrtqunVA2",
        "outputId": "6e8ab5a6-7726-4fee-a473-ac3c4a80bc00"
      },
      "execution_count": null,
      "outputs": [
        {
          "output_type": "stream",
          "name": "stdout",
          "text": [
            "Episode: 1/1000\n"
          ]
        },
        {
          "output_type": "stream",
          "name": "stderr",
          "text": [
            "\r  0%|          | 0/1258 [00:00<?, ?it/s]"
          ]
        },
        {
          "output_type": "stream",
          "name": "stdout",
          "text": [
            "price before formatting: 35.9474983215332\n",
            "AI Trader bought:  $ 35.947498\n",
            "price before formatting: 35.912498474121094\n",
            "AI Trader bought:  $ 35.912498\n",
            "price before formatting: 36.64500045776367\n",
            "price before formatting: 0.6975021362304688\n",
            "AI Trader sold:  $ 36.645000  Profit: $ 0.697502\n",
            "price before formatting: 36.877498626708984\n",
            "AI Trader bought:  $ 36.877499\n",
            "price before formatting: 36.76499938964844\n",
            "AI Trader bought:  $ 36.764999\n",
            "price before formatting: 36.63249969482422\n",
            "AI Trader bought:  $ 36.632500\n",
            "price before formatting: 37.2400016784668\n",
            "AI Trader bought:  $ 37.240002\n",
            "price before formatting: 38.252498626708984\n",
            "AI Trader bought:  $ 38.252499\n",
            "price before formatting: 38.497501373291016\n",
            "AI Trader bought:  $ 38.497501\n",
            "price before formatting: 38.314998626708984\n",
            "AI Trader bought:  $ 38.314999\n",
            "price before formatting: 38.48749923706055\n",
            "AI Trader bought:  $ 38.487499\n",
            "price before formatting: 39.025001525878906\n",
            "price before formatting: 3.1125030517578125\n",
            "AI Trader sold:  $ 39.025002  Profit: $ 3.112503\n",
            "price before formatting: 38.92499923706055\n",
            "AI Trader bought:  $ 38.924999\n",
            "price before formatting: 38.86750030517578\n",
            "AI Trader bought:  $ 38.867500\n",
            "price before formatting: 38.1349983215332\n",
            "price before formatting: 1.2574996948242188\n",
            "AI Trader sold:  $ 38.134998  Profit: $ 1.257500\n",
            "price before formatting: 38.26499938964844\n",
            "price before formatting: 1.5\n",
            "AI Trader sold:  $ 38.264999  Profit: $ 1.500000\n",
            "price before formatting: 38.45000076293945\n",
            "price before formatting: 1.8175010681152344\n",
            "AI Trader sold:  $ 38.450001  Profit: $ 1.817501\n",
            "price before formatting: 38.334999084472656\n",
            "AI Trader bought:  $ 38.334999\n",
            "price before formatting: 38.467498779296875\n",
            "AI Trader bought:  $ 38.467499\n",
            "price before formatting: 38.40250015258789\n",
            "price before formatting: 1.1624984741210938\n",
            "AI Trader sold:  $ 38.402500  Profit: $ 1.162498\n",
            "price before formatting: 38.41749954223633\n",
            "price before formatting: 0.16500091552734375\n",
            "AI Trader sold:  $ 38.417500  Profit: $ 0.165001\n",
            "price before formatting: 38.86249923706055\n",
            "price before formatting: 0.36499786376953125\n",
            "AI Trader sold:  $ 38.862499  Profit: $ 0.364998\n",
            "price before formatting: 38.48249816894531\n",
            "AI Trader bought:  $ 38.482498\n",
            "price before formatting: 38.842498779296875\n",
            "price before formatting: 0.5275001525878906\n",
            "AI Trader sold:  $ 38.842499  Profit: $ 0.527500\n",
            "price before formatting: 38.747501373291016\n",
            "AI Trader bought:  $ 38.747501\n",
            "price before formatting: 37.244998931884766\n",
            "AI Trader bought:  $ 37.244999\n",
            "reward is: 0.051660157367587084\n",
            "target is: 0.05533666908740997\n",
            "reward is: 0.02316904095932841\n",
            "target is: 0.009055303409695625\n",
            "reward is: 0.7226125416345894\n",
            "target is: -0.02961691841483116\n",
            "reward is: 0.023307542502880096\n",
            "target is: 0.030928002670407295\n",
            "reward is: 0.02128445841372013\n",
            "target is: 0.02620914950966835\n",
            "reward is: 0.049456756375730035\n",
            "target is: 0.02239396795630455\n",
            "reward is: 0.08611713871359825\n",
            "target is: 0.05721253901720047\n"
          ]
        },
        {
          "output_type": "stream",
          "name": "stderr",
          "text": [
            "\r  3%|▎         | 32/1258 [00:03<02:16,  9.01it/s]\n"
          ]
        },
        {
          "output_type": "error",
          "ename": "ValueError",
          "evalue": "ignored",
          "traceback": [
            "\u001b[0;31m---------------------------------------------------------------------------\u001b[0m",
            "\u001b[0;31mValueError\u001b[0m                                Traceback (most recent call last)",
            "\u001b[0;32m<ipython-input-65-406ca4ebc82d>\u001b[0m in \u001b[0;36m<module>\u001b[0;34m()\u001b[0m\n\u001b[1;32m     43\u001b[0m \u001b[0;34m\u001b[0m\u001b[0m\n\u001b[1;32m     44\u001b[0m     \u001b[0;32mif\u001b[0m \u001b[0mlen\u001b[0m\u001b[0;34m(\u001b[0m\u001b[0mtrader\u001b[0m\u001b[0;34m.\u001b[0m\u001b[0mmemory\u001b[0m\u001b[0;34m)\u001b[0m \u001b[0;34m>\u001b[0m \u001b[0mbatch_size\u001b[0m\u001b[0;34m:\u001b[0m\u001b[0;34m\u001b[0m\u001b[0;34m\u001b[0m\u001b[0m\n\u001b[0;32m---> 45\u001b[0;31m       \u001b[0mtrader\u001b[0m\u001b[0;34m.\u001b[0m\u001b[0mbatch_train\u001b[0m\u001b[0;34m(\u001b[0m\u001b[0mbatch_size\u001b[0m\u001b[0;34m)\u001b[0m\u001b[0;34m\u001b[0m\u001b[0;34m\u001b[0m\u001b[0m\n\u001b[0m\u001b[1;32m     46\u001b[0m \u001b[0;34m\u001b[0m\u001b[0m\n\u001b[1;32m     47\u001b[0m   \u001b[0;32mif\u001b[0m \u001b[0mepisode\u001b[0m \u001b[0;34m%\u001b[0m \u001b[0;36m10\u001b[0m \u001b[0;34m==\u001b[0m \u001b[0;36m0\u001b[0m\u001b[0;34m:\u001b[0m\u001b[0;34m\u001b[0m\u001b[0;34m\u001b[0m\u001b[0m\n",
            "\u001b[0;32m<ipython-input-52-eec28c6698d8>\u001b[0m in \u001b[0;36mbatch_train\u001b[0;34m(self, batch_size)\u001b[0m\n\u001b[1;32m     55\u001b[0m       \u001b[0mreward\u001b[0m \u001b[0;34m=\u001b[0m \u001b[0mreward\u001b[0m\u001b[0;34m\u001b[0m\u001b[0;34m\u001b[0m\u001b[0m\n\u001b[1;32m     56\u001b[0m       \u001b[0;32mif\u001b[0m \u001b[0;32mnot\u001b[0m \u001b[0mdone\u001b[0m\u001b[0;34m:\u001b[0m \u001b[0;31m# if agent not in terminated or dead state\u001b[0m\u001b[0;34m\u001b[0m\u001b[0;34m\u001b[0m\u001b[0m\n\u001b[0;32m---> 57\u001b[0;31m         \u001b[0mreward\u001b[0m \u001b[0;34m=\u001b[0m \u001b[0mreward\u001b[0m \u001b[0;34m+\u001b[0m \u001b[0mself\u001b[0m\u001b[0;34m.\u001b[0m\u001b[0mgamma\u001b[0m \u001b[0;34m*\u001b[0m \u001b[0mnp\u001b[0m\u001b[0;34m.\u001b[0m\u001b[0mamax\u001b[0m\u001b[0;34m(\u001b[0m\u001b[0mself\u001b[0m\u001b[0;34m.\u001b[0m\u001b[0mmodel\u001b[0m\u001b[0;34m.\u001b[0m\u001b[0mpredict\u001b[0m\u001b[0;34m(\u001b[0m\u001b[0mnext_state\u001b[0m\u001b[0;34m)\u001b[0m\u001b[0;34m[\u001b[0m\u001b[0;36m0\u001b[0m\u001b[0;34m]\u001b[0m\u001b[0;34m)\u001b[0m  \u001b[0;31m# normal reward formular\u001b[0m\u001b[0;34m\u001b[0m\u001b[0;34m\u001b[0m\u001b[0m\n\u001b[0m\u001b[1;32m     58\u001b[0m \u001b[0;34m\u001b[0m\u001b[0m\n\u001b[1;32m     59\u001b[0m       \u001b[0mtarget\u001b[0m \u001b[0;34m=\u001b[0m \u001b[0mself\u001b[0m\u001b[0;34m.\u001b[0m\u001b[0mmodel\u001b[0m\u001b[0;34m.\u001b[0m\u001b[0mpredict\u001b[0m\u001b[0;34m(\u001b[0m\u001b[0mstate\u001b[0m\u001b[0;34m)\u001b[0m  \u001b[0;31m# returns an action\u001b[0m\u001b[0;34m\u001b[0m\u001b[0;34m\u001b[0m\u001b[0m\n",
            "\u001b[0;32m/usr/local/lib/python3.7/dist-packages/keras/utils/traceback_utils.py\u001b[0m in \u001b[0;36merror_handler\u001b[0;34m(*args, **kwargs)\u001b[0m\n\u001b[1;32m     65\u001b[0m     \u001b[0;32mexcept\u001b[0m \u001b[0mException\u001b[0m \u001b[0;32mas\u001b[0m \u001b[0me\u001b[0m\u001b[0;34m:\u001b[0m  \u001b[0;31m# pylint: disable=broad-except\u001b[0m\u001b[0;34m\u001b[0m\u001b[0;34m\u001b[0m\u001b[0m\n\u001b[1;32m     66\u001b[0m       \u001b[0mfiltered_tb\u001b[0m \u001b[0;34m=\u001b[0m \u001b[0m_process_traceback_frames\u001b[0m\u001b[0;34m(\u001b[0m\u001b[0me\u001b[0m\u001b[0;34m.\u001b[0m\u001b[0m__traceback__\u001b[0m\u001b[0;34m)\u001b[0m\u001b[0;34m\u001b[0m\u001b[0;34m\u001b[0m\u001b[0m\n\u001b[0;32m---> 67\u001b[0;31m       \u001b[0;32mraise\u001b[0m \u001b[0me\u001b[0m\u001b[0;34m.\u001b[0m\u001b[0mwith_traceback\u001b[0m\u001b[0;34m(\u001b[0m\u001b[0mfiltered_tb\u001b[0m\u001b[0;34m)\u001b[0m \u001b[0;32mfrom\u001b[0m \u001b[0;32mNone\u001b[0m\u001b[0;34m\u001b[0m\u001b[0;34m\u001b[0m\u001b[0m\n\u001b[0m\u001b[1;32m     68\u001b[0m     \u001b[0;32mfinally\u001b[0m\u001b[0;34m:\u001b[0m\u001b[0;34m\u001b[0m\u001b[0;34m\u001b[0m\u001b[0m\n\u001b[1;32m     69\u001b[0m       \u001b[0;32mdel\u001b[0m \u001b[0mfiltered_tb\u001b[0m\u001b[0;34m\u001b[0m\u001b[0;34m\u001b[0m\u001b[0m\n",
            "\u001b[0;32m/usr/local/lib/python3.7/dist-packages/keras/engine/data_adapter.py\u001b[0m in \u001b[0;36mselect_data_adapter\u001b[0;34m(x, y)\u001b[0m\n\u001b[1;32m    985\u001b[0m         \u001b[0;34m\"Failed to find data adapter that can handle \"\u001b[0m\u001b[0;34m\u001b[0m\u001b[0;34m\u001b[0m\u001b[0m\n\u001b[1;32m    986\u001b[0m         \"input: {}, {}\".format(\n\u001b[0;32m--> 987\u001b[0;31m             _type_name(x), _type_name(y)))\n\u001b[0m\u001b[1;32m    988\u001b[0m   \u001b[0;32melif\u001b[0m \u001b[0mlen\u001b[0m\u001b[0;34m(\u001b[0m\u001b[0madapter_cls\u001b[0m\u001b[0;34m)\u001b[0m \u001b[0;34m>\u001b[0m \u001b[0;36m1\u001b[0m\u001b[0;34m:\u001b[0m\u001b[0;34m\u001b[0m\u001b[0;34m\u001b[0m\u001b[0m\n\u001b[1;32m    989\u001b[0m     raise RuntimeError(\n",
            "\u001b[0;31mValueError\u001b[0m: Failed to find data adapter that can handle input: <class 'NoneType'>, <class 'NoneType'>"
          ]
        }
      ]
    },
    {
      "cell_type": "code",
      "source": [
        ""
      ],
      "metadata": {
        "id": "JotOPQR3nVb_"
      },
      "execution_count": null,
      "outputs": []
    },
    {
      "cell_type": "code",
      "source": [
        ""
      ],
      "metadata": {
        "id": "uvIMRoA7nVop"
      },
      "execution_count": null,
      "outputs": []
    },
    {
      "cell_type": "code",
      "source": [
        ""
      ],
      "metadata": {
        "id": "Pq_WeMw2nVze"
      },
      "execution_count": null,
      "outputs": []
    },
    {
      "cell_type": "code",
      "source": [
        ""
      ],
      "metadata": {
        "id": "sNG4OFfqePcD"
      },
      "execution_count": null,
      "outputs": []
    },
    {
      "cell_type": "code",
      "source": [
        ""
      ],
      "metadata": {
        "id": "7SWcK1CtePkz"
      },
      "execution_count": null,
      "outputs": []
    },
    {
      "cell_type": "code",
      "source": [
        ""
      ],
      "metadata": {
        "id": "If-XlYN9ePt4"
      },
      "execution_count": null,
      "outputs": []
    },
    {
      "cell_type": "code",
      "source": [
        ""
      ],
      "metadata": {
        "id": "mfzoF_N3eP2V"
      },
      "execution_count": null,
      "outputs": []
    },
    {
      "cell_type": "code",
      "source": [
        ""
      ],
      "metadata": {
        "id": "a-sUSbSSeP-l"
      },
      "execution_count": null,
      "outputs": []
    },
    {
      "cell_type": "code",
      "source": [
        ""
      ],
      "metadata": {
        "id": "ggSKR5f4eQHU"
      },
      "execution_count": null,
      "outputs": []
    },
    {
      "cell_type": "code",
      "source": [
        ""
      ],
      "metadata": {
        "id": "Dg8KQssCeOhN"
      },
      "execution_count": null,
      "outputs": []
    },
    {
      "cell_type": "code",
      "source": [
        ""
      ],
      "metadata": {
        "id": "rqEQLM63eOrP"
      },
      "execution_count": null,
      "outputs": []
    },
    {
      "cell_type": "code",
      "source": [
        ""
      ],
      "metadata": {
        "id": "60QlFzhWeO1r"
      },
      "execution_count": null,
      "outputs": []
    },
    {
      "cell_type": "code",
      "source": [
        ""
      ],
      "metadata": {
        "id": "SVaI96vUeO-_"
      },
      "execution_count": null,
      "outputs": []
    },
    {
      "cell_type": "code",
      "source": [
        ""
      ],
      "metadata": {
        "id": "x9dPoLFxePIx"
      },
      "execution_count": null,
      "outputs": []
    },
    {
      "cell_type": "code",
      "source": [
        ""
      ],
      "metadata": {
        "id": "hQqFInvZePSs"
      },
      "execution_count": null,
      "outputs": []
    }
  ]
}