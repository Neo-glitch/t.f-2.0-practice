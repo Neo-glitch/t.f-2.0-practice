{
  "nbformat": 4,
  "nbformat_minor": 0,
  "metadata": {
    "colab": {
      "name": "AI Celsius to Farenheit converter(very simple neuron model).ipynb",
      "provenance": [],
      "collapsed_sections": [],
      "authorship_tag": "ABX9TyMLmJPzNp4MnLYrdBflMN/2",
      "include_colab_link": true
    },
    "kernelspec": {
      "name": "python3",
      "display_name": "Python 3"
    },
    "language_info": {
      "name": "python"
    }
  },
  "cells": [
    {
      "cell_type": "markdown",
      "metadata": {
        "id": "view-in-github",
        "colab_type": "text"
      },
      "source": [
        "<a href=\"https://colab.research.google.com/github/Neo-glitch/t.f-2.0-practice/blob/master/AI_Celsius_to_Farenheit_converter(very_simple_neuron_model).ipynb\" target=\"_parent\"><img src=\"https://colab.research.google.com/assets/colab-badge.svg\" alt=\"Open In Colab\"/></a>"
      ]
    },
    {
      "cell_type": "code",
      "execution_count": null,
      "metadata": {
        "id": "Ec7jdYXTlsaf"
      },
      "outputs": [],
      "source": [
        "import tensorflow as tf\n",
        "import numpy as np\n",
        "import seaborn as sns\n",
        "import matplotlib.pyplot as plt\n",
        "import pandas as pd"
      ]
    },
    {
      "cell_type": "code",
      "source": [
        "# import datasets\n",
        "\n",
        "# mount my Gdrive\n",
        "from google.colab import drive\n",
        "drive.mount(\"/content/mount\")"
      ],
      "metadata": {
        "colab": {
          "base_uri": "https://localhost:8080/"
        },
        "id": "nwOx6twVmKdt",
        "outputId": "08894de5-74ec-4e1b-d239-88455b1c8ab0"
      },
      "execution_count": null,
      "outputs": [
        {
          "output_type": "stream",
          "name": "stdout",
          "text": [
            "Drive already mounted at /content/mount; to attempt to forcibly remount, call drive.mount(\"/content/mount\", force_remount=True).\n"
          ]
        }
      ]
    },
    {
      "cell_type": "code",
      "source": [
        "temp_df = pd.read_csv(\"/content/mount/MyDrive/datasets/Celsius+to+Fahrenheit.csv\")\n",
        "\n",
        "temp_df.head(4)"
      ],
      "metadata": {
        "colab": {
          "base_uri": "https://localhost:8080/",
          "height": 175
        },
        "id": "ebgutWu2mKgh",
        "outputId": "ad9a8060-6693-4f9d-8f0a-99e8d3dd6140"
      },
      "execution_count": null,
      "outputs": [
        {
          "output_type": "execute_result",
          "data": {
            "text/plain": [
              "   Celsius  Fahrenheit\n",
              "0      -50       -58.0\n",
              "1      -40       -40.0\n",
              "2      -30       -22.0\n",
              "3      -20        -4.0"
            ],
            "text/html": [
              "\n",
              "  <div id=\"df-6d3e1e4a-698a-4a6b-be18-4a381d646765\">\n",
              "    <div class=\"colab-df-container\">\n",
              "      <div>\n",
              "<style scoped>\n",
              "    .dataframe tbody tr th:only-of-type {\n",
              "        vertical-align: middle;\n",
              "    }\n",
              "\n",
              "    .dataframe tbody tr th {\n",
              "        vertical-align: top;\n",
              "    }\n",
              "\n",
              "    .dataframe thead th {\n",
              "        text-align: right;\n",
              "    }\n",
              "</style>\n",
              "<table border=\"1\" class=\"dataframe\">\n",
              "  <thead>\n",
              "    <tr style=\"text-align: right;\">\n",
              "      <th></th>\n",
              "      <th>Celsius</th>\n",
              "      <th>Fahrenheit</th>\n",
              "    </tr>\n",
              "  </thead>\n",
              "  <tbody>\n",
              "    <tr>\n",
              "      <th>0</th>\n",
              "      <td>-50</td>\n",
              "      <td>-58.0</td>\n",
              "    </tr>\n",
              "    <tr>\n",
              "      <th>1</th>\n",
              "      <td>-40</td>\n",
              "      <td>-40.0</td>\n",
              "    </tr>\n",
              "    <tr>\n",
              "      <th>2</th>\n",
              "      <td>-30</td>\n",
              "      <td>-22.0</td>\n",
              "    </tr>\n",
              "    <tr>\n",
              "      <th>3</th>\n",
              "      <td>-20</td>\n",
              "      <td>-4.0</td>\n",
              "    </tr>\n",
              "  </tbody>\n",
              "</table>\n",
              "</div>\n",
              "      <button class=\"colab-df-convert\" onclick=\"convertToInteractive('df-6d3e1e4a-698a-4a6b-be18-4a381d646765')\"\n",
              "              title=\"Convert this dataframe to an interactive table.\"\n",
              "              style=\"display:none;\">\n",
              "        \n",
              "  <svg xmlns=\"http://www.w3.org/2000/svg\" height=\"24px\"viewBox=\"0 0 24 24\"\n",
              "       width=\"24px\">\n",
              "    <path d=\"M0 0h24v24H0V0z\" fill=\"none\"/>\n",
              "    <path d=\"M18.56 5.44l.94 2.06.94-2.06 2.06-.94-2.06-.94-.94-2.06-.94 2.06-2.06.94zm-11 1L8.5 8.5l.94-2.06 2.06-.94-2.06-.94L8.5 2.5l-.94 2.06-2.06.94zm10 10l.94 2.06.94-2.06 2.06-.94-2.06-.94-.94-2.06-.94 2.06-2.06.94z\"/><path d=\"M17.41 7.96l-1.37-1.37c-.4-.4-.92-.59-1.43-.59-.52 0-1.04.2-1.43.59L10.3 9.45l-7.72 7.72c-.78.78-.78 2.05 0 2.83L4 21.41c.39.39.9.59 1.41.59.51 0 1.02-.2 1.41-.59l7.78-7.78 2.81-2.81c.8-.78.8-2.07 0-2.86zM5.41 20L4 18.59l7.72-7.72 1.47 1.35L5.41 20z\"/>\n",
              "  </svg>\n",
              "      </button>\n",
              "      \n",
              "  <style>\n",
              "    .colab-df-container {\n",
              "      display:flex;\n",
              "      flex-wrap:wrap;\n",
              "      gap: 12px;\n",
              "    }\n",
              "\n",
              "    .colab-df-convert {\n",
              "      background-color: #E8F0FE;\n",
              "      border: none;\n",
              "      border-radius: 50%;\n",
              "      cursor: pointer;\n",
              "      display: none;\n",
              "      fill: #1967D2;\n",
              "      height: 32px;\n",
              "      padding: 0 0 0 0;\n",
              "      width: 32px;\n",
              "    }\n",
              "\n",
              "    .colab-df-convert:hover {\n",
              "      background-color: #E2EBFA;\n",
              "      box-shadow: 0px 1px 2px rgba(60, 64, 67, 0.3), 0px 1px 3px 1px rgba(60, 64, 67, 0.15);\n",
              "      fill: #174EA6;\n",
              "    }\n",
              "\n",
              "    [theme=dark] .colab-df-convert {\n",
              "      background-color: #3B4455;\n",
              "      fill: #D2E3FC;\n",
              "    }\n",
              "\n",
              "    [theme=dark] .colab-df-convert:hover {\n",
              "      background-color: #434B5C;\n",
              "      box-shadow: 0px 1px 3px 1px rgba(0, 0, 0, 0.15);\n",
              "      filter: drop-shadow(0px 1px 2px rgba(0, 0, 0, 0.3));\n",
              "      fill: #FFFFFF;\n",
              "    }\n",
              "  </style>\n",
              "\n",
              "      <script>\n",
              "        const buttonEl =\n",
              "          document.querySelector('#df-6d3e1e4a-698a-4a6b-be18-4a381d646765 button.colab-df-convert');\n",
              "        buttonEl.style.display =\n",
              "          google.colab.kernel.accessAllowed ? 'block' : 'none';\n",
              "\n",
              "        async function convertToInteractive(key) {\n",
              "          const element = document.querySelector('#df-6d3e1e4a-698a-4a6b-be18-4a381d646765');\n",
              "          const dataTable =\n",
              "            await google.colab.kernel.invokeFunction('convertToInteractive',\n",
              "                                                     [key], {});\n",
              "          if (!dataTable) return;\n",
              "\n",
              "          const docLinkHtml = 'Like what you see? Visit the ' +\n",
              "            '<a target=\"_blank\" href=https://colab.research.google.com/notebooks/data_table.ipynb>data table notebook</a>'\n",
              "            + ' to learn more about interactive tables.';\n",
              "          element.innerHTML = '';\n",
              "          dataTable['output_type'] = 'display_data';\n",
              "          await google.colab.output.renderOutput(dataTable, element);\n",
              "          const docLink = document.createElement('div');\n",
              "          docLink.innerHTML = docLinkHtml;\n",
              "          element.appendChild(docLink);\n",
              "        }\n",
              "      </script>\n",
              "    </div>\n",
              "  </div>\n",
              "  "
            ]
          },
          "metadata": {},
          "execution_count": 12
        }
      ]
    },
    {
      "cell_type": "code",
      "source": [
        "# last rows\n",
        "temp_df.tail(10)"
      ],
      "metadata": {
        "colab": {
          "base_uri": "https://localhost:8080/",
          "height": 363
        },
        "id": "AyZOqg2dmKjW",
        "outputId": "124c1e8f-5ee5-4ef4-d49b-b8e25e4b2985"
      },
      "execution_count": null,
      "outputs": [
        {
          "output_type": "execute_result",
          "data": {
            "text/plain": [
              "    Celsius  Fahrenheit\n",
              "20        6        42.8\n",
              "21        7        44.6\n",
              "22        8        46.4\n",
              "23        9        48.2\n",
              "24       10        50.0\n",
              "25       20        68.0\n",
              "26       30        86.0\n",
              "27       40       104.0\n",
              "28       50       122.0\n",
              "29       60       140.0"
            ],
            "text/html": [
              "\n",
              "  <div id=\"df-183e9d8b-3d32-47bb-9ab5-e9acfb75493f\">\n",
              "    <div class=\"colab-df-container\">\n",
              "      <div>\n",
              "<style scoped>\n",
              "    .dataframe tbody tr th:only-of-type {\n",
              "        vertical-align: middle;\n",
              "    }\n",
              "\n",
              "    .dataframe tbody tr th {\n",
              "        vertical-align: top;\n",
              "    }\n",
              "\n",
              "    .dataframe thead th {\n",
              "        text-align: right;\n",
              "    }\n",
              "</style>\n",
              "<table border=\"1\" class=\"dataframe\">\n",
              "  <thead>\n",
              "    <tr style=\"text-align: right;\">\n",
              "      <th></th>\n",
              "      <th>Celsius</th>\n",
              "      <th>Fahrenheit</th>\n",
              "    </tr>\n",
              "  </thead>\n",
              "  <tbody>\n",
              "    <tr>\n",
              "      <th>20</th>\n",
              "      <td>6</td>\n",
              "      <td>42.8</td>\n",
              "    </tr>\n",
              "    <tr>\n",
              "      <th>21</th>\n",
              "      <td>7</td>\n",
              "      <td>44.6</td>\n",
              "    </tr>\n",
              "    <tr>\n",
              "      <th>22</th>\n",
              "      <td>8</td>\n",
              "      <td>46.4</td>\n",
              "    </tr>\n",
              "    <tr>\n",
              "      <th>23</th>\n",
              "      <td>9</td>\n",
              "      <td>48.2</td>\n",
              "    </tr>\n",
              "    <tr>\n",
              "      <th>24</th>\n",
              "      <td>10</td>\n",
              "      <td>50.0</td>\n",
              "    </tr>\n",
              "    <tr>\n",
              "      <th>25</th>\n",
              "      <td>20</td>\n",
              "      <td>68.0</td>\n",
              "    </tr>\n",
              "    <tr>\n",
              "      <th>26</th>\n",
              "      <td>30</td>\n",
              "      <td>86.0</td>\n",
              "    </tr>\n",
              "    <tr>\n",
              "      <th>27</th>\n",
              "      <td>40</td>\n",
              "      <td>104.0</td>\n",
              "    </tr>\n",
              "    <tr>\n",
              "      <th>28</th>\n",
              "      <td>50</td>\n",
              "      <td>122.0</td>\n",
              "    </tr>\n",
              "    <tr>\n",
              "      <th>29</th>\n",
              "      <td>60</td>\n",
              "      <td>140.0</td>\n",
              "    </tr>\n",
              "  </tbody>\n",
              "</table>\n",
              "</div>\n",
              "      <button class=\"colab-df-convert\" onclick=\"convertToInteractive('df-183e9d8b-3d32-47bb-9ab5-e9acfb75493f')\"\n",
              "              title=\"Convert this dataframe to an interactive table.\"\n",
              "              style=\"display:none;\">\n",
              "        \n",
              "  <svg xmlns=\"http://www.w3.org/2000/svg\" height=\"24px\"viewBox=\"0 0 24 24\"\n",
              "       width=\"24px\">\n",
              "    <path d=\"M0 0h24v24H0V0z\" fill=\"none\"/>\n",
              "    <path d=\"M18.56 5.44l.94 2.06.94-2.06 2.06-.94-2.06-.94-.94-2.06-.94 2.06-2.06.94zm-11 1L8.5 8.5l.94-2.06 2.06-.94-2.06-.94L8.5 2.5l-.94 2.06-2.06.94zm10 10l.94 2.06.94-2.06 2.06-.94-2.06-.94-.94-2.06-.94 2.06-2.06.94z\"/><path d=\"M17.41 7.96l-1.37-1.37c-.4-.4-.92-.59-1.43-.59-.52 0-1.04.2-1.43.59L10.3 9.45l-7.72 7.72c-.78.78-.78 2.05 0 2.83L4 21.41c.39.39.9.59 1.41.59.51 0 1.02-.2 1.41-.59l7.78-7.78 2.81-2.81c.8-.78.8-2.07 0-2.86zM5.41 20L4 18.59l7.72-7.72 1.47 1.35L5.41 20z\"/>\n",
              "  </svg>\n",
              "      </button>\n",
              "      \n",
              "  <style>\n",
              "    .colab-df-container {\n",
              "      display:flex;\n",
              "      flex-wrap:wrap;\n",
              "      gap: 12px;\n",
              "    }\n",
              "\n",
              "    .colab-df-convert {\n",
              "      background-color: #E8F0FE;\n",
              "      border: none;\n",
              "      border-radius: 50%;\n",
              "      cursor: pointer;\n",
              "      display: none;\n",
              "      fill: #1967D2;\n",
              "      height: 32px;\n",
              "      padding: 0 0 0 0;\n",
              "      width: 32px;\n",
              "    }\n",
              "\n",
              "    .colab-df-convert:hover {\n",
              "      background-color: #E2EBFA;\n",
              "      box-shadow: 0px 1px 2px rgba(60, 64, 67, 0.3), 0px 1px 3px 1px rgba(60, 64, 67, 0.15);\n",
              "      fill: #174EA6;\n",
              "    }\n",
              "\n",
              "    [theme=dark] .colab-df-convert {\n",
              "      background-color: #3B4455;\n",
              "      fill: #D2E3FC;\n",
              "    }\n",
              "\n",
              "    [theme=dark] .colab-df-convert:hover {\n",
              "      background-color: #434B5C;\n",
              "      box-shadow: 0px 1px 3px 1px rgba(0, 0, 0, 0.15);\n",
              "      filter: drop-shadow(0px 1px 2px rgba(0, 0, 0, 0.3));\n",
              "      fill: #FFFFFF;\n",
              "    }\n",
              "  </style>\n",
              "\n",
              "      <script>\n",
              "        const buttonEl =\n",
              "          document.querySelector('#df-183e9d8b-3d32-47bb-9ab5-e9acfb75493f button.colab-df-convert');\n",
              "        buttonEl.style.display =\n",
              "          google.colab.kernel.accessAllowed ? 'block' : 'none';\n",
              "\n",
              "        async function convertToInteractive(key) {\n",
              "          const element = document.querySelector('#df-183e9d8b-3d32-47bb-9ab5-e9acfb75493f');\n",
              "          const dataTable =\n",
              "            await google.colab.kernel.invokeFunction('convertToInteractive',\n",
              "                                                     [key], {});\n",
              "          if (!dataTable) return;\n",
              "\n",
              "          const docLinkHtml = 'Like what you see? Visit the ' +\n",
              "            '<a target=\"_blank\" href=https://colab.research.google.com/notebooks/data_table.ipynb>data table notebook</a>'\n",
              "            + ' to learn more about interactive tables.';\n",
              "          element.innerHTML = '';\n",
              "          dataTable['output_type'] = 'display_data';\n",
              "          await google.colab.output.renderOutput(dataTable, element);\n",
              "          const docLink = document.createElement('div');\n",
              "          docLink.innerHTML = docLinkHtml;\n",
              "          element.appendChild(docLink);\n",
              "        }\n",
              "      </script>\n",
              "    </div>\n",
              "  </div>\n",
              "  "
            ]
          },
          "metadata": {},
          "execution_count": 15
        }
      ]
    },
    {
      "cell_type": "code",
      "source": [
        "temp_df.describe()"
      ],
      "metadata": {
        "colab": {
          "base_uri": "https://localhost:8080/",
          "height": 300
        },
        "id": "h8VfMN_GmKlw",
        "outputId": "78adce5a-a183-4a61-c967-30d94d17b12b"
      },
      "execution_count": null,
      "outputs": [
        {
          "output_type": "execute_result",
          "data": {
            "text/plain": [
              "         Celsius  Fahrenheit\n",
              "count  30.000000   30.000000\n",
              "mean    2.000000   35.600000\n",
              "std    22.780815   41.005466\n",
              "min   -50.000000  -58.000000\n",
              "25%    -6.750000   19.850000\n",
              "50%     0.500000   32.900000\n",
              "75%     7.750000   45.950000\n",
              "max    60.000000  140.000000"
            ],
            "text/html": [
              "\n",
              "  <div id=\"df-62e9f835-a1f3-4a55-a81c-a7a8868803b6\">\n",
              "    <div class=\"colab-df-container\">\n",
              "      <div>\n",
              "<style scoped>\n",
              "    .dataframe tbody tr th:only-of-type {\n",
              "        vertical-align: middle;\n",
              "    }\n",
              "\n",
              "    .dataframe tbody tr th {\n",
              "        vertical-align: top;\n",
              "    }\n",
              "\n",
              "    .dataframe thead th {\n",
              "        text-align: right;\n",
              "    }\n",
              "</style>\n",
              "<table border=\"1\" class=\"dataframe\">\n",
              "  <thead>\n",
              "    <tr style=\"text-align: right;\">\n",
              "      <th></th>\n",
              "      <th>Celsius</th>\n",
              "      <th>Fahrenheit</th>\n",
              "    </tr>\n",
              "  </thead>\n",
              "  <tbody>\n",
              "    <tr>\n",
              "      <th>count</th>\n",
              "      <td>30.000000</td>\n",
              "      <td>30.000000</td>\n",
              "    </tr>\n",
              "    <tr>\n",
              "      <th>mean</th>\n",
              "      <td>2.000000</td>\n",
              "      <td>35.600000</td>\n",
              "    </tr>\n",
              "    <tr>\n",
              "      <th>std</th>\n",
              "      <td>22.780815</td>\n",
              "      <td>41.005466</td>\n",
              "    </tr>\n",
              "    <tr>\n",
              "      <th>min</th>\n",
              "      <td>-50.000000</td>\n",
              "      <td>-58.000000</td>\n",
              "    </tr>\n",
              "    <tr>\n",
              "      <th>25%</th>\n",
              "      <td>-6.750000</td>\n",
              "      <td>19.850000</td>\n",
              "    </tr>\n",
              "    <tr>\n",
              "      <th>50%</th>\n",
              "      <td>0.500000</td>\n",
              "      <td>32.900000</td>\n",
              "    </tr>\n",
              "    <tr>\n",
              "      <th>75%</th>\n",
              "      <td>7.750000</td>\n",
              "      <td>45.950000</td>\n",
              "    </tr>\n",
              "    <tr>\n",
              "      <th>max</th>\n",
              "      <td>60.000000</td>\n",
              "      <td>140.000000</td>\n",
              "    </tr>\n",
              "  </tbody>\n",
              "</table>\n",
              "</div>\n",
              "      <button class=\"colab-df-convert\" onclick=\"convertToInteractive('df-62e9f835-a1f3-4a55-a81c-a7a8868803b6')\"\n",
              "              title=\"Convert this dataframe to an interactive table.\"\n",
              "              style=\"display:none;\">\n",
              "        \n",
              "  <svg xmlns=\"http://www.w3.org/2000/svg\" height=\"24px\"viewBox=\"0 0 24 24\"\n",
              "       width=\"24px\">\n",
              "    <path d=\"M0 0h24v24H0V0z\" fill=\"none\"/>\n",
              "    <path d=\"M18.56 5.44l.94 2.06.94-2.06 2.06-.94-2.06-.94-.94-2.06-.94 2.06-2.06.94zm-11 1L8.5 8.5l.94-2.06 2.06-.94-2.06-.94L8.5 2.5l-.94 2.06-2.06.94zm10 10l.94 2.06.94-2.06 2.06-.94-2.06-.94-.94-2.06-.94 2.06-2.06.94z\"/><path d=\"M17.41 7.96l-1.37-1.37c-.4-.4-.92-.59-1.43-.59-.52 0-1.04.2-1.43.59L10.3 9.45l-7.72 7.72c-.78.78-.78 2.05 0 2.83L4 21.41c.39.39.9.59 1.41.59.51 0 1.02-.2 1.41-.59l7.78-7.78 2.81-2.81c.8-.78.8-2.07 0-2.86zM5.41 20L4 18.59l7.72-7.72 1.47 1.35L5.41 20z\"/>\n",
              "  </svg>\n",
              "      </button>\n",
              "      \n",
              "  <style>\n",
              "    .colab-df-container {\n",
              "      display:flex;\n",
              "      flex-wrap:wrap;\n",
              "      gap: 12px;\n",
              "    }\n",
              "\n",
              "    .colab-df-convert {\n",
              "      background-color: #E8F0FE;\n",
              "      border: none;\n",
              "      border-radius: 50%;\n",
              "      cursor: pointer;\n",
              "      display: none;\n",
              "      fill: #1967D2;\n",
              "      height: 32px;\n",
              "      padding: 0 0 0 0;\n",
              "      width: 32px;\n",
              "    }\n",
              "\n",
              "    .colab-df-convert:hover {\n",
              "      background-color: #E2EBFA;\n",
              "      box-shadow: 0px 1px 2px rgba(60, 64, 67, 0.3), 0px 1px 3px 1px rgba(60, 64, 67, 0.15);\n",
              "      fill: #174EA6;\n",
              "    }\n",
              "\n",
              "    [theme=dark] .colab-df-convert {\n",
              "      background-color: #3B4455;\n",
              "      fill: #D2E3FC;\n",
              "    }\n",
              "\n",
              "    [theme=dark] .colab-df-convert:hover {\n",
              "      background-color: #434B5C;\n",
              "      box-shadow: 0px 1px 3px 1px rgba(0, 0, 0, 0.15);\n",
              "      filter: drop-shadow(0px 1px 2px rgba(0, 0, 0, 0.3));\n",
              "      fill: #FFFFFF;\n",
              "    }\n",
              "  </style>\n",
              "\n",
              "      <script>\n",
              "        const buttonEl =\n",
              "          document.querySelector('#df-62e9f835-a1f3-4a55-a81c-a7a8868803b6 button.colab-df-convert');\n",
              "        buttonEl.style.display =\n",
              "          google.colab.kernel.accessAllowed ? 'block' : 'none';\n",
              "\n",
              "        async function convertToInteractive(key) {\n",
              "          const element = document.querySelector('#df-62e9f835-a1f3-4a55-a81c-a7a8868803b6');\n",
              "          const dataTable =\n",
              "            await google.colab.kernel.invokeFunction('convertToInteractive',\n",
              "                                                     [key], {});\n",
              "          if (!dataTable) return;\n",
              "\n",
              "          const docLinkHtml = 'Like what you see? Visit the ' +\n",
              "            '<a target=\"_blank\" href=https://colab.research.google.com/notebooks/data_table.ipynb>data table notebook</a>'\n",
              "            + ' to learn more about interactive tables.';\n",
              "          element.innerHTML = '';\n",
              "          dataTable['output_type'] = 'display_data';\n",
              "          await google.colab.output.renderOutput(dataTable, element);\n",
              "          const docLink = document.createElement('div');\n",
              "          docLink.innerHTML = docLinkHtml;\n",
              "          element.appendChild(docLink);\n",
              "        }\n",
              "      </script>\n",
              "    </div>\n",
              "  </div>\n",
              "  "
            ]
          },
          "metadata": {},
          "execution_count": 16
        }
      ]
    },
    {
      "cell_type": "code",
      "source": [
        "temp_df.info()"
      ],
      "metadata": {
        "colab": {
          "base_uri": "https://localhost:8080/"
        },
        "id": "jhtrhd0qmKnz",
        "outputId": "b4010929-e9b0-4ea1-ec2e-0f5e4f67bb13"
      },
      "execution_count": null,
      "outputs": [
        {
          "output_type": "stream",
          "name": "stdout",
          "text": [
            "<class 'pandas.core.frame.DataFrame'>\n",
            "RangeIndex: 30 entries, 0 to 29\n",
            "Data columns (total 2 columns):\n",
            " #   Column      Non-Null Count  Dtype  \n",
            "---  ------      --------------  -----  \n",
            " 0   Celsius     30 non-null     int64  \n",
            " 1   Fahrenheit  30 non-null     float64\n",
            "dtypes: float64(1), int64(1)\n",
            "memory usage: 608.0 bytes\n"
          ]
        }
      ]
    },
    {
      "cell_type": "code",
      "source": [
        "temp_df.plot(x= \"Celsius\", y = \"Fahrenheit\", kind=\"scatter\")"
      ],
      "metadata": {
        "colab": {
          "base_uri": "https://localhost:8080/",
          "height": 297
        },
        "id": "_-PgNZQUmKqH",
        "outputId": "9cdede2a-9708-401c-eb9b-732a51d70a56"
      },
      "execution_count": null,
      "outputs": [
        {
          "output_type": "execute_result",
          "data": {
            "text/plain": [
              "<matplotlib.axes._subplots.AxesSubplot at 0x7f483dac6490>"
            ]
          },
          "metadata": {},
          "execution_count": 22
        },
        {
          "output_type": "display_data",
          "data": {
            "text/plain": [
              "<Figure size 432x288 with 1 Axes>"
            ],
            "image/png": "[encoded data removed]"
          },
          "metadata": {
            "needs_background": "light"
          }
        }
      ]
    },
    {
      "cell_type": "code",
      "source": [
        "# using seaborn to plot\n",
        "sns.scatterplot(temp_df[\"Celsius\"], temp_df[\"Fahrenheit\"]);"
      ],
      "metadata": {
        "colab": {
          "base_uri": "https://localhost:8080/",
          "height": 335
        },
        "id": "aTTHZ9znmKsK",
        "outputId": "d82c7b4b-9bdf-44cd-8ac4-b1ea54ab8344"
      },
      "execution_count": null,
      "outputs": [
        {
          "output_type": "stream",
          "name": "stderr",
          "text": [
            "/usr/local/lib/python3.7/dist-packages/seaborn/_decorators.py:43: FutureWarning: Pass the following variables as keyword args: x, y. From version 0.12, the only valid positional argument will be `data`, and passing other arguments without an explicit keyword will result in an error or misinterpretation.\n",
            "  FutureWarning\n"
          ]
        },
        {
          "output_type": "display_data",
          "data": {
            "text/plain": [
              "<Figure size 432x288 with 1 Axes>"
            ],
            "image/png": "[encoded data removed]"
          },
          "metadata": {
            "needs_background": "light"
          }
        }
      ]
    },
    {
      "cell_type": "code",
      "source": [
        "from sklearn.model_selection import train_test_split\n",
        "\n",
        "\n",
        "x_train, x_test, y_train, y_test = train_test_split(temp_df[\"Celsius\"], temp_df[\"Fahrenheit\"], test_size = 0.05)"
      ],
      "metadata": {
        "id": "PVXs2iwemKuu"
      },
      "execution_count": null,
      "outputs": []
    },
    {
      "cell_type": "code",
      "source": [
        "model = tf.keras.Sequential([\n",
        "                             tf.keras.layers.Dense(units = 1, input_shape = [1,], activation = \"linear\")\n",
        "])\n",
        "\n",
        "model.summary()"
      ],
      "metadata": {
        "colab": {
          "base_uri": "https://localhost:8080/"
        },
        "id": "LR0RWZD9mKx2",
        "outputId": "dfa483bf-203c-4088-9db2-c36fdb7e65f1"
      },
      "execution_count": null,
      "outputs": [
        {
          "output_type": "stream",
          "name": "stdout",
          "text": [
            "Model: \"sequential_14\"\n",
            "_________________________________________________________________\n",
            " Layer (type)                Output Shape              Param #   \n",
            "=================================================================\n",
            " dense_14 (Dense)            (None, 1)                 2         \n",
            "                                                                 \n",
            "=================================================================\n",
            "Total params: 2\n",
            "Trainable params: 2\n",
            "Non-trainable params: 0\n",
            "_________________________________________________________________\n"
          ]
        }
      ]
    },
    {
      "cell_type": "code",
      "source": [
        "model.compile(optimizer = tf.keras.optimizers.Adam(0.5), loss = \"mean_squared_error\")\n",
        "\n",
        "history = model.fit(x_train, y_train, epochs = 200)"
      ],
      "metadata": {
        "colab": {
          "base_uri": "https://localhost:8080/"
        },
        "id": "f1R-ig3LmK1A",
        "outputId": "ceaed739-7e46-4f62-ae50-933359093442"
      },
      "execution_count": null,
      "outputs": [
        {
          "output_type": "stream",
          "name": "stdout",
          "text": [
            "Epoch 1/200\n",
            "1/1 [==============================] - 1s 653ms/step - loss: 2175.3333\n",
            "Epoch 2/200\n",
            "1/1 [==============================] - 0s 7ms/step - loss: 1484.5397\n",
            "Epoch 3/200\n",
            "1/1 [==============================] - 0s 6ms/step - loss: 1073.6891\n",
            "Epoch 4/200\n",
            "1/1 [==============================] - 0s 5ms/step - loss: 918.9923\n",
            "Epoch 5/200\n",
            "1/1 [==============================] - 0s 5ms/step - loss: 950.3485\n",
            "Epoch 6/200\n",
            "1/1 [==============================] - 0s 4ms/step - loss: 1052.6663\n",
            "Epoch 7/200\n",
            "1/1 [==============================] - 0s 4ms/step - loss: 1120.1537\n",
            "Epoch 8/200\n",
            "1/1 [==============================] - 0s 4ms/step - loss: 1108.9553\n",
            "Epoch 9/200\n",
            "1/1 [==============================] - 0s 5ms/step - loss: 1030.0590\n",
            "Epoch 10/200\n",
            "1/1 [==============================] - 0s 13ms/step - loss: 917.3500\n",
            "Epoch 11/200\n",
            "1/1 [==============================] - 0s 11ms/step - loss: 805.7036\n",
            "Epoch 12/200\n",
            "1/1 [==============================] - 0s 14ms/step - loss: 720.6304\n",
            "Epoch 13/200\n",
            "1/1 [==============================] - 0s 12ms/step - loss: 673.8373\n",
            "Epoch 14/200\n",
            "1/1 [==============================] - 0s 12ms/step - loss: 662.3932\n",
            "Epoch 15/200\n",
            "1/1 [==============================] - 0s 5ms/step - loss: 671.7936\n",
            "Epoch 16/200\n",
            "1/1 [==============================] - 0s 5ms/step - loss: 682.8838\n",
            "Epoch 17/200\n",
            "1/1 [==============================] - 0s 5ms/step - loss: 680.0236\n",
            "Epoch 18/200\n",
            "1/1 [==============================] - 0s 5ms/step - loss: 656.4451\n",
            "Epoch 19/200\n",
            "1/1 [==============================] - 0s 5ms/step - loss: 614.7991\n",
            "Epoch 20/200\n",
            "1/1 [==============================] - 0s 5ms/step - loss: 564.0314\n",
            "Epoch 21/200\n",
            "1/1 [==============================] - 0s 5ms/step - loss: 514.9290\n",
            "Epoch 22/200\n",
            "1/1 [==============================] - 0s 5ms/step - loss: 476.1161\n",
            "Epoch 23/200\n",
            "1/1 [==============================] - 0s 5ms/step - loss: 451.4604\n",
            "Epoch 24/200\n",
            "1/1 [==============================] - 0s 5ms/step - loss: 439.3834\n",
            "Epoch 25/200\n",
            "1/1 [==============================] - 0s 5ms/step - loss: 434.1620\n",
            "Epoch 26/200\n",
            "1/1 [==============================] - 0s 5ms/step - loss: 428.6691\n",
            "Epoch 27/200\n",
            "1/1 [==============================] - 0s 5ms/step - loss: 417.3503\n",
            "Epoch 28/200\n",
            "1/1 [==============================] - 0s 5ms/step - loss: 398.1424\n",
            "Epoch 29/200\n",
            "1/1 [==============================] - 0s 5ms/step - loss: 372.6807\n",
            "Epoch 30/200\n",
            "1/1 [==============================] - 0s 5ms/step - loss: 345.0270\n",
            "Epoch 31/200\n",
            "1/1 [==============================] - 0s 8ms/step - loss: 319.6943\n",
            "Epoch 32/200\n",
            "1/1 [==============================] - 0s 5ms/step - loss: 299.8181\n",
            "Epoch 33/200\n",
            "1/1 [==============================] - 0s 6ms/step - loss: 286.1185\n",
            "Epoch 34/200\n",
            "1/1 [==============================] - 0s 5ms/step - loss: 276.9451\n",
            "Epoch 35/200\n",
            "1/1 [==============================] - 0s 11ms/step - loss: 269.2837\n",
            "Epoch 36/200\n",
            "1/1 [==============================] - 0s 8ms/step - loss: 260.2084\n",
            "Epoch 37/200\n",
            "1/1 [==============================] - 0s 6ms/step - loss: 248.1031\n",
            "Epoch 38/200\n",
            "1/1 [==============================] - 0s 6ms/step - loss: 233.1416\n",
            "Epoch 39/200\n",
            "1/1 [==============================] - 0s 5ms/step - loss: 216.9259\n",
            "Epoch 40/200\n",
            "1/1 [==============================] - 0s 5ms/step - loss: 201.5662\n",
            "Epoch 41/200\n",
            "1/1 [==============================] - 0s 15ms/step - loss: 188.6809\n",
            "Epoch 42/200\n",
            "1/1 [==============================] - 0s 7ms/step - loss: 178.7534\n",
            "Epoch 43/200\n",
            "1/1 [==============================] - 0s 5ms/step - loss: 171.0790\n",
            "Epoch 44/200\n",
            "1/1 [==============================] - 0s 6ms/step - loss: 164.2520\n",
            "Epoch 45/200\n",
            "1/1 [==============================] - 0s 6ms/step - loss: 156.9076\n",
            "Epoch 46/200\n",
            "1/1 [==============================] - 0s 5ms/step - loss: 148.3389\n",
            "Epoch 47/200\n",
            "1/1 [==============================] - 0s 6ms/step - loss: 138.7181\n",
            "Epoch 48/200\n",
            "1/1 [==============================] - 0s 6ms/step - loss: 128.8715\n",
            "Epoch 49/200\n",
            "1/1 [==============================] - 0s 6ms/step - loss: 119.7812\n",
            "Epoch 50/200\n",
            "1/1 [==============================] - 0s 6ms/step - loss: 112.0865\n",
            "Epoch 51/200\n",
            "1/1 [==============================] - 0s 6ms/step - loss: 105.8236\n",
            "Epoch 52/200\n",
            "1/1 [==============================] - 0s 7ms/step - loss: 100.4939\n",
            "Epoch 53/200\n",
            "1/1 [==============================] - 0s 7ms/step - loss: 95.3862\n",
            "Epoch 54/200\n",
            "1/1 [==============================] - 0s 7ms/step - loss: 89.9569\n",
            "Epoch 55/200\n",
            "1/1 [==============================] - 0s 6ms/step - loss: 84.0698\n",
            "Epoch 56/200\n",
            "1/1 [==============================] - 0s 6ms/step - loss: 77.9945\n",
            "Epoch 57/200\n",
            "1/1 [==============================] - 0s 6ms/step - loss: 72.1990\n",
            "Epoch 58/200\n",
            "1/1 [==============================] - 0s 6ms/step - loss: 67.0726\n",
            "Epoch 59/200\n",
            "1/1 [==============================] - 0s 6ms/step - loss: 62.7313\n",
            "Epoch 60/200\n",
            "1/1 [==============================] - 0s 6ms/step - loss: 58.9950\n",
            "Epoch 61/200\n",
            "1/1 [==============================] - 0s 6ms/step - loss: 55.5237\n",
            "Epoch 62/200\n",
            "1/1 [==============================] - 0s 6ms/step - loss: 52.0178\n",
            "Epoch 63/200\n",
            "1/1 [==============================] - 0s 6ms/step - loss: 48.3666\n",
            "Epoch 64/200\n",
            "1/1 [==============================] - 0s 5ms/step - loss: 44.6722\n",
            "Epoch 65/200\n",
            "1/1 [==============================] - 0s 6ms/step - loss: 41.1544\n",
            "Epoch 66/200\n",
            "1/1 [==============================] - 0s 6ms/step - loss: 38.0064\n",
            "Epoch 67/200\n",
            "1/1 [==============================] - 0s 5ms/step - loss: 35.2880\n",
            "Epoch 68/200\n",
            "1/1 [==============================] - 0s 6ms/step - loss: 32.9088\n",
            "Epoch 69/200\n",
            "1/1 [==============================] - 0s 5ms/step - loss: 30.6988\n",
            "Epoch 70/200\n",
            "1/1 [==============================] - 0s 7ms/step - loss: 28.5120\n",
            "Epoch 71/200\n",
            "1/1 [==============================] - 0s 6ms/step - loss: 26.3012\n",
            "Epoch 72/200\n",
            "1/1 [==============================] - 0s 7ms/step - loss: 24.1240\n",
            "Epoch 73/200\n",
            "1/1 [==============================] - 0s 7ms/step - loss: 22.0885\n",
            "Epoch 74/200\n",
            "1/1 [==============================] - 0s 6ms/step - loss: 20.2779\n",
            "Epoch 75/200\n",
            "1/1 [==============================] - 0s 6ms/step - loss: 18.7022\n",
            "Epoch 76/200\n",
            "1/1 [==============================] - 0s 7ms/step - loss: 17.3006\n",
            "Epoch 77/200\n",
            "1/1 [==============================] - 0s 7ms/step - loss: 15.9849\n",
            "Epoch 78/200\n",
            "1/1 [==============================] - 0s 6ms/step - loss: 14.6934\n",
            "Epoch 79/200\n",
            "1/1 [==============================] - 0s 7ms/step - loss: 13.4192\n",
            "Epoch 80/200\n",
            "1/1 [==============================] - 0s 7ms/step - loss: 12.2024\n",
            "Epoch 81/200\n",
            "1/1 [==============================] - 0s 6ms/step - loss: 11.0941\n",
            "Epoch 82/200\n",
            "1/1 [==============================] - 0s 6ms/step - loss: 10.1208\n",
            "Epoch 83/200\n",
            "1/1 [==============================] - 0s 7ms/step - loss: 9.2685\n",
            "Epoch 84/200\n",
            "1/1 [==============================] - 0s 9ms/step - loss: 8.4960\n",
            "Epoch 85/200\n",
            "1/1 [==============================] - 0s 9ms/step - loss: 7.7614\n",
            "Epoch 86/200\n",
            "1/1 [==============================] - 0s 12ms/step - loss: 7.0462\n",
            "Epoch 87/200\n",
            "1/1 [==============================] - 0s 7ms/step - loss: 6.3602\n",
            "Epoch 88/200\n",
            "1/1 [==============================] - 0s 16ms/step - loss: 5.7282\n",
            "Epoch 89/200\n",
            "1/1 [==============================] - 0s 10ms/step - loss: 5.1691\n",
            "Epoch 90/200\n",
            "1/1 [==============================] - 0s 6ms/step - loss: 4.6828\n",
            "Epoch 91/200\n",
            "1/1 [==============================] - 0s 6ms/step - loss: 4.2512\n",
            "Epoch 92/200\n",
            "1/1 [==============================] - 0s 6ms/step - loss: 3.8510\n",
            "Epoch 93/200\n",
            "1/1 [==============================] - 0s 6ms/step - loss: 3.4676\n",
            "Epoch 94/200\n",
            "1/1 [==============================] - 0s 6ms/step - loss: 3.1016\n",
            "Epoch 95/200\n",
            "1/1 [==============================] - 0s 7ms/step - loss: 2.7639\n",
            "Epoch 96/200\n",
            "1/1 [==============================] - 0s 8ms/step - loss: 2.4650\n",
            "Epoch 97/200\n",
            "1/1 [==============================] - 0s 6ms/step - loss: 2.2068\n",
            "Epoch 98/200\n",
            "1/1 [==============================] - 0s 6ms/step - loss: 1.9812\n",
            "Epoch 99/200\n",
            "1/1 [==============================] - 0s 10ms/step - loss: 1.7758\n",
            "Epoch 100/200\n",
            "1/1 [==============================] - 0s 6ms/step - loss: 1.5819\n",
            "Epoch 101/200\n",
            "1/1 [==============================] - 0s 6ms/step - loss: 1.3982\n",
            "Epoch 102/200\n",
            "1/1 [==============================] - 0s 6ms/step - loss: 1.2296\n",
            "Epoch 103/200\n",
            "1/1 [==============================] - 0s 6ms/step - loss: 1.0815\n",
            "Epoch 104/200\n",
            "1/1 [==============================] - 0s 6ms/step - loss: 0.9552\n",
            "Epoch 105/200\n",
            "1/1 [==============================] - 0s 6ms/step - loss: 0.8464\n",
            "Epoch 106/200\n",
            "1/1 [==============================] - 0s 6ms/step - loss: 0.7487\n",
            "Epoch 107/200\n",
            "1/1 [==============================] - 0s 5ms/step - loss: 0.6574\n",
            "Epoch 108/200\n",
            "1/1 [==============================] - 0s 6ms/step - loss: 0.5716\n",
            "Epoch 109/200\n",
            "1/1 [==============================] - 0s 6ms/step - loss: 0.4939\n",
            "Epoch 110/200\n",
            "1/1 [==============================] - 0s 6ms/step - loss: 0.4268\n",
            "Epoch 111/200\n",
            "1/1 [==============================] - 0s 5ms/step - loss: 0.3707\n",
            "Epoch 112/200\n",
            "1/1 [==============================] - 0s 5ms/step - loss: 0.3232\n",
            "Epoch 113/200\n",
            "1/1 [==============================] - 0s 7ms/step - loss: 0.2810\n",
            "Epoch 114/200\n",
            "1/1 [==============================] - 0s 6ms/step - loss: 0.2417\n",
            "Epoch 115/200\n",
            "1/1 [==============================] - 0s 6ms/step - loss: 0.2052\n",
            "Epoch 116/200\n",
            "1/1 [==============================] - 0s 6ms/step - loss: 0.1727\n",
            "Epoch 117/200\n",
            "1/1 [==============================] - 0s 6ms/step - loss: 0.1456\n",
            "Epoch 118/200\n",
            "1/1 [==============================] - 0s 6ms/step - loss: 0.1237\n",
            "Epoch 119/200\n",
            "1/1 [==============================] - 0s 5ms/step - loss: 0.1055\n",
            "Epoch 120/200\n",
            "1/1 [==============================] - 0s 6ms/step - loss: 0.0895\n",
            "Epoch 121/200\n",
            "1/1 [==============================] - 0s 6ms/step - loss: 0.0745\n",
            "Epoch 122/200\n",
            "1/1 [==============================] - 0s 6ms/step - loss: 0.0607\n",
            "Epoch 123/200\n",
            "1/1 [==============================] - 0s 6ms/step - loss: 0.0489\n",
            "Epoch 124/200\n",
            "1/1 [==============================] - 0s 6ms/step - loss: 0.0396\n",
            "Epoch 125/200\n",
            "1/1 [==============================] - 0s 6ms/step - loss: 0.0326\n",
            "Epoch 126/200\n",
            "1/1 [==============================] - 0s 6ms/step - loss: 0.0269\n",
            "Epoch 127/200\n",
            "1/1 [==============================] - 0s 6ms/step - loss: 0.0218\n",
            "Epoch 128/200\n",
            "1/1 [==============================] - 0s 6ms/step - loss: 0.0170\n",
            "Epoch 129/200\n",
            "1/1 [==============================] - 0s 11ms/step - loss: 0.0127\n",
            "Epoch 130/200\n",
            "1/1 [==============================] - 0s 6ms/step - loss: 0.0093\n",
            "Epoch 131/200\n",
            "1/1 [==============================] - 0s 13ms/step - loss: 0.0070\n",
            "Epoch 132/200\n",
            "1/1 [==============================] - 0s 7ms/step - loss: 0.0055\n",
            "Epoch 133/200\n",
            "1/1 [==============================] - 0s 7ms/step - loss: 0.0043\n",
            "Epoch 134/200\n",
            "1/1 [==============================] - 0s 8ms/step - loss: 0.0031\n",
            "Epoch 135/200\n",
            "1/1 [==============================] - 0s 7ms/step - loss: 0.0020\n",
            "Epoch 136/200\n",
            "1/1 [==============================] - 0s 8ms/step - loss: 0.0010\n",
            "Epoch 137/200\n",
            "1/1 [==============================] - 0s 7ms/step - loss: 4.9386e-04\n",
            "Epoch 138/200\n",
            "1/1 [==============================] - 0s 6ms/step - loss: 3.5509e-04\n",
            "Epoch 139/200\n",
            "1/1 [==============================] - 0s 7ms/step - loss: 4.0162e-04\n",
            "Epoch 140/200\n",
            "1/1 [==============================] - 0s 6ms/step - loss: 4.1478e-04\n",
            "Epoch 141/200\n",
            "1/1 [==============================] - 0s 6ms/step - loss: 3.1827e-04\n",
            "Epoch 142/200\n",
            "1/1 [==============================] - 0s 7ms/step - loss: 1.9640e-04\n",
            "Epoch 143/200\n",
            "1/1 [==============================] - 0s 6ms/step - loss: 1.8246e-04\n",
            "Epoch 144/200\n",
            "1/1 [==============================] - 0s 6ms/step - loss: 3.2893e-04\n",
            "Epoch 145/200\n",
            "1/1 [==============================] - 0s 7ms/step - loss: 5.6872e-04\n",
            "Epoch 146/200\n",
            "1/1 [==============================] - 0s 7ms/step - loss: 7.8266e-04\n",
            "Epoch 147/200\n",
            "1/1 [==============================] - 0s 7ms/step - loss: 8.9961e-04\n",
            "Epoch 148/200\n",
            "1/1 [==============================] - 0s 7ms/step - loss: 9.4054e-04\n",
            "Epoch 149/200\n",
            "1/1 [==============================] - 0s 7ms/step - loss: 9.8172e-04\n",
            "Epoch 150/200\n",
            "1/1 [==============================] - 0s 7ms/step - loss: 0.0011\n",
            "Epoch 151/200\n",
            "1/1 [==============================] - 0s 8ms/step - loss: 0.0012\n",
            "Epoch 152/200\n",
            "1/1 [==============================] - 0s 7ms/step - loss: 0.0013\n",
            "Epoch 153/200\n",
            "1/1 [==============================] - 0s 8ms/step - loss: 0.0014\n",
            "Epoch 154/200\n",
            "1/1 [==============================] - 0s 7ms/step - loss: 0.0014\n",
            "Epoch 155/200\n",
            "1/1 [==============================] - 0s 6ms/step - loss: 0.0014\n",
            "Epoch 156/200\n",
            "1/1 [==============================] - 0s 7ms/step - loss: 0.0014\n",
            "Epoch 157/200\n",
            "1/1 [==============================] - 0s 6ms/step - loss: 0.0014\n",
            "Epoch 158/200\n",
            "1/1 [==============================] - 0s 6ms/step - loss: 0.0015\n",
            "Epoch 159/200\n",
            "1/1 [==============================] - 0s 7ms/step - loss: 0.0014\n",
            "Epoch 160/200\n",
            "1/1 [==============================] - 0s 6ms/step - loss: 0.0014\n",
            "Epoch 161/200\n",
            "1/1 [==============================] - 0s 6ms/step - loss: 0.0013\n",
            "Epoch 162/200\n",
            "1/1 [==============================] - 0s 7ms/step - loss: 0.0013\n",
            "Epoch 163/200\n",
            "1/1 [==============================] - 0s 7ms/step - loss: 0.0012\n",
            "Epoch 164/200\n",
            "1/1 [==============================] - 0s 7ms/step - loss: 0.0012\n",
            "Epoch 165/200\n",
            "1/1 [==============================] - 0s 7ms/step - loss: 0.0012\n",
            "Epoch 166/200\n",
            "1/1 [==============================] - 0s 7ms/step - loss: 0.0011\n",
            "Epoch 167/200\n",
            "1/1 [==============================] - 0s 6ms/step - loss: 0.0010\n",
            "Epoch 168/200\n",
            "1/1 [==============================] - 0s 7ms/step - loss: 9.4503e-04\n",
            "Epoch 169/200\n",
            "1/1 [==============================] - 0s 7ms/step - loss: 8.8546e-04\n",
            "Epoch 170/200\n",
            "1/1 [==============================] - 0s 7ms/step - loss: 8.3279e-04\n",
            "Epoch 171/200\n",
            "1/1 [==============================] - 0s 6ms/step - loss: 7.7795e-04\n",
            "Epoch 172/200\n",
            "1/1 [==============================] - 0s 6ms/step - loss: 7.1671e-04\n",
            "Epoch 173/200\n",
            "1/1 [==============================] - 0s 7ms/step - loss: 6.5257e-04\n",
            "Epoch 174/200\n",
            "1/1 [==============================] - 0s 7ms/step - loss: 5.9294e-04\n",
            "Epoch 175/200\n",
            "1/1 [==============================] - 0s 7ms/step - loss: 5.4164e-04\n",
            "Epoch 176/200\n",
            "1/1 [==============================] - 0s 8ms/step - loss: 4.9661e-04\n",
            "Epoch 177/200\n",
            "1/1 [==============================] - 0s 7ms/step - loss: 4.5297e-04\n",
            "Epoch 178/200\n",
            "1/1 [==============================] - 0s 6ms/step - loss: 4.0788e-04\n",
            "Epoch 179/200\n",
            "1/1 [==============================] - 0s 7ms/step - loss: 3.6301e-04\n",
            "Epoch 180/200\n",
            "1/1 [==============================] - 0s 7ms/step - loss: 3.2204e-04\n",
            "Epoch 181/200\n",
            "1/1 [==============================] - 0s 6ms/step - loss: 2.8712e-04\n",
            "Epoch 182/200\n",
            "1/1 [==============================] - 0s 15ms/step - loss: 2.5707e-04\n",
            "Epoch 183/200\n",
            "1/1 [==============================] - 0s 7ms/step - loss: 2.2903e-04\n",
            "Epoch 184/200\n",
            "1/1 [==============================] - 0s 6ms/step - loss: 2.0126e-04\n",
            "Epoch 185/200\n",
            "1/1 [==============================] - 0s 6ms/step - loss: 1.7446e-04\n",
            "Epoch 186/200\n",
            "1/1 [==============================] - 0s 6ms/step - loss: 1.5060e-04\n",
            "Epoch 187/200\n",
            "1/1 [==============================] - 0s 6ms/step - loss: 1.3077e-04\n",
            "Epoch 188/200\n",
            "1/1 [==============================] - 0s 5ms/step - loss: 1.1416e-04\n",
            "Epoch 189/200\n",
            "1/1 [==============================] - 0s 5ms/step - loss: 9.8980e-05\n",
            "Epoch 190/200\n",
            "1/1 [==============================] - 0s 5ms/step - loss: 8.4331e-05\n",
            "Epoch 191/200\n",
            "1/1 [==============================] - 0s 9ms/step - loss: 7.0628e-05\n",
            "Epoch 192/200\n",
            "1/1 [==============================] - 0s 9ms/step - loss: 5.8821e-05\n",
            "Epoch 193/200\n",
            "1/1 [==============================] - 0s 8ms/step - loss: 4.9441e-05\n",
            "Epoch 194/200\n",
            "1/1 [==============================] - 0s 6ms/step - loss: 4.1823e-05\n",
            "Epoch 195/200\n",
            "1/1 [==============================] - 0s 11ms/step - loss: 3.4997e-05\n",
            "Epoch 196/200\n",
            "1/1 [==============================] - 0s 6ms/step - loss: 2.8484e-05\n",
            "Epoch 197/200\n",
            "1/1 [==============================] - 0s 5ms/step - loss: 2.2546e-05\n",
            "Epoch 198/200\n",
            "1/1 [==============================] - 0s 9ms/step - loss: 1.7731e-05\n",
            "Epoch 199/200\n",
            "1/1 [==============================] - 0s 5ms/step - loss: 1.4155e-05\n",
            "Epoch 200/200\n",
            "1/1 [==============================] - 0s 8ms/step - loss: 1.1441e-05\n"
          ]
        }
      ]
    },
    {
      "cell_type": "code",
      "source": [
        "model.evaluate(x_test, y_test)"
      ],
      "metadata": {
        "colab": {
          "base_uri": "https://localhost:8080/"
        },
        "id": "ZaVpB3e0mLAK",
        "outputId": "7a1e313d-f298-4892-ef99-cfeae7f4a977"
      },
      "execution_count": null,
      "outputs": [
        {
          "output_type": "stream",
          "name": "stdout",
          "text": [
            "1/1 [==============================] - 0s 273ms/step - loss: 1.0662e-05\n"
          ]
        },
        {
          "output_type": "execute_result",
          "data": {
            "text/plain": [
              "1.0661682608770207e-05"
            ]
          },
          "metadata": {},
          "execution_count": 119
        }
      ]
    },
    {
      "cell_type": "code",
      "source": [
        "x_test.shape"
      ],
      "metadata": {
        "colab": {
          "base_uri": "https://localhost:8080/"
        },
        "id": "U8QvsDcxmLCq",
        "outputId": "d05ff566-e61f-49c9-82a9-e61548257d91"
      },
      "execution_count": null,
      "outputs": [
        {
          "output_type": "execute_result",
          "data": {
            "text/plain": [
              "(2,)"
            ]
          },
          "metadata": {},
          "execution_count": 120
        }
      ]
    },
    {
      "cell_type": "code",
      "source": [
        "# eval model, plot loss against epoch\n",
        "\n",
        "plt.plot(history.history[\"loss\"])\n",
        "plt.title(\"Model loss-epoch plot\")\n",
        "plt.xlabel(\"Epochs\")\n",
        "plt.ylabel(\"Loss\")\n",
        "plt.legend(\"Training loss\")"
      ],
      "metadata": {
        "colab": {
          "base_uri": "https://localhost:8080/",
          "height": 313
        },
        "id": "_r4512VcmLF_",
        "outputId": "2d28fc35-4ba8-4025-f2dd-414806ab7135"
      },
      "execution_count": null,
      "outputs": [
        {
          "output_type": "execute_result",
          "data": {
            "text/plain": [
              "<matplotlib.legend.Legend at 0x7f482b7e4a50>"
            ]
          },
          "metadata": {},
          "execution_count": 121
        },
        {
          "output_type": "display_data",
          "data": {
            "text/plain": [
              "<Figure size 432x288 with 1 Axes>"
            ],
            "image/png": "[encoded data removed]"
          },
          "metadata": {
            "needs_background": "light"
          }
        }
      ]
    },
    {
      "cell_type": "code",
      "source": [
        "# get model wieghts and bias\n",
        "model.get_weights()"
      ],
      "metadata": {
        "colab": {
          "base_uri": "https://localhost:8080/"
        },
        "id": "nP8IthCRmLJe",
        "outputId": "0af72fd3-4341-4957-aa03-110b31963b61"
      },
      "execution_count": null,
      "outputs": [
        {
          "output_type": "execute_result",
          "data": {
            "text/plain": [
              "[array([[1.7999483]], dtype=float32), array([32.0029], dtype=float32)]"
            ]
          },
          "metadata": {},
          "execution_count": 122
        }
      ]
    },
    {
      "cell_type": "code",
      "source": [
        "y_pred = model.predict([x_test.to_numpy()])\n",
        "y_true = y_test.to_numpy()\n",
        "\n",
        "print(f\"y_test[0] is: {y_true[1]}\")\n",
        "print(f\"y_pred is: {y_pred[1][0]}\")"
      ],
      "metadata": {
        "colab": {
          "base_uri": "https://localhost:8080/"
        },
        "id": "26sZaryFmLM2",
        "outputId": "9574d8b6-e89e-4fcf-ba7b-6441c7fd12e9"
      },
      "execution_count": null,
      "outputs": [
        {
          "output_type": "stream",
          "name": "stdout",
          "text": [
            "y_test[0] is: 24.8\n",
            "y_pred is: 24.8031063079834\n"
          ]
        }
      ]
    },
    {
      "cell_type": "code",
      "source": [
        ""
      ],
      "metadata": {
        "id": "VYNdSs0HmLPk"
      },
      "execution_count": null,
      "outputs": []
    },
    {
      "cell_type": "code",
      "source": [
        ""
      ],
      "metadata": {
        "id": "WAtSihFymLTA"
      },
      "execution_count": null,
      "outputs": []
    },
    {
      "cell_type": "code",
      "source": [
        ""
      ],
      "metadata": {
        "id": "vvjbpaU0mLWL"
      },
      "execution_count": null,
      "outputs": []
    },
    {
      "cell_type": "code",
      "source": [
        ""
      ],
      "metadata": {
        "id": "0UZQhyY6mLZI"
      },
      "execution_count": null,
      "outputs": []
    },
    {
      "cell_type": "code",
      "source": [
        ""
      ],
      "metadata": {
        "id": "QqomKs0AmLcL"
      },
      "execution_count": null,
      "outputs": []
    },
    {
      "cell_type": "code",
      "source": [
        ""
      ],
      "metadata": {
        "id": "4Hv2mxNqmLfK"
      },
      "execution_count": null,
      "outputs": []
    },
    {
      "cell_type": "code",
      "source": [
        ""
      ],
      "metadata": {
        "id": "p0NIkuwcmLig"
      },
      "execution_count": null,
      "outputs": []
    },
    {
      "cell_type": "code",
      "source": [
        ""
      ],
      "metadata": {
        "id": "JHfBTBZHmLl1"
      },
      "execution_count": null,
      "outputs": []
    },
    {
      "cell_type": "code",
      "source": [
        ""
      ],
      "metadata": {
        "id": "YVP5QyrkmLpT"
      },
      "execution_count": null,
      "outputs": []
    },
    {
      "cell_type": "code",
      "source": [
        ""
      ],
      "metadata": {
        "id": "A7PIDP17mLsO"
      },
      "execution_count": null,
      "outputs": []
    },
    {
      "cell_type": "code",
      "source": [
        ""
      ],
      "metadata": {
        "id": "WjOsi--DmLvE"
      },
      "execution_count": null,
      "outputs": []
    },
    {
      "cell_type": "code",
      "source": [
        ""
      ],
      "metadata": {
        "id": "3AcYfLKzmLyl"
      },
      "execution_count": null,
      "outputs": []
    },
    {
      "cell_type": "code",
      "source": [
        ""
      ],
      "metadata": {
        "id": "eSQj-yiwmL1i"
      },
      "execution_count": null,
      "outputs": []
    },
    {
      "cell_type": "code",
      "source": [
        ""
      ],
      "metadata": {
        "id": "W4dq6jwEmL5B"
      },
      "execution_count": null,
      "outputs": []
    },
    {
      "cell_type": "code",
      "source": [
        ""
      ],
      "metadata": {
        "id": "vPy7yXH-mL9K"
      },
      "execution_count": null,
      "outputs": []
    }
  ]
}